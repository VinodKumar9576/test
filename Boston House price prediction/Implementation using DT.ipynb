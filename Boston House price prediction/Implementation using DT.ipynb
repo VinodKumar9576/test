{
  "nbformat": 4,
  "nbformat_minor": 0,
  "metadata": {
    "colab": {
      "name": "Implementation using DT.ipynb",
      "provenance": [],
      "collapsed_sections": [],
      "authorship_tag": "ABX9TyNjBVXlWdCt8IPweuZiKYQ5"
    },
    "kernelspec": {
      "name": "python3",
      "display_name": "Python 3"
    }
  },
  "cells": [
    {
      "cell_type": "markdown",
      "metadata": {
        "id": "A2qWT2aElKf7",
        "colab_type": "text",
        "badge": true,
        "repo_name": "VinodKumar9576/test",
        "branch": "master",
        "nb_path": "Boston House price prediction/Implementation using DT.ipynb",
        "comment": "This badge cell was added by colab-badge-action"
      },
      "source": [
        "<a href=\"https://colab.research.google.com/github/VinodKumar9576/test/blob/master/Boston House price prediction/Implementation using DT.ipynb\" target=\"_parent\"><img src=\"https://colab.research.google.com/assets/colab-badge.svg\" alt=\"Open In Colab\"/></a>"
      ]
    },
    {
      "cell_type": "markdown",
      "metadata": {
        "id": "yRx7Fk-wUqbT",
        "colab_type": "text"
      },
      "source": [
        "**<h1>Boston Houses price prediction using Decision Tree**"
      ]
    },
    {
      "cell_type": "markdown",
      "metadata": {
        "id": "2ZmOxQ67UKjT",
        "colab_type": "text"
      },
      "source": [
        "**<h1>Contents**"
      ]
    },
    {
      "cell_type": "markdown",
      "metadata": {
        "id": "zeQM37S6qCXw",
        "colab_type": "text"
      },
      "source": [
        "* Reading the data set\n",
        "* Distribution of data (Distributions within variables itself)\n",
        "* Data Exploration\n",
        "  * Implementation : Calculate Statistics\n",
        "  * plotting of features vs output variable\n",
        "* Developing a Model\n",
        "  * Implementation: \n",
        "    * Define a Performance Metric\n",
        "    * Shuffle an Split Data\n",
        "* Analyzing Model Performance\n",
        "  * Learning Curves\n",
        "  * Complexity Curves\n",
        "* Evaluating Model Performance\n",
        "* Implementation : Fitting a Model\n",
        "* Making predictions"
      ]
    },
    {
      "cell_type": "markdown",
      "metadata": {
        "id": "H9Ctojn1WNrT",
        "colab_type": "text"
      },
      "source": [
        "**<h1>Reading the data**"
      ]
    },
    {
      "cell_type": "code",
      "metadata": {
        "id": "EobRD6HyXlbL",
        "colab_type": "code",
        "colab": {}
      },
      "source": [
        "import numpy as np\n",
        "import pandas as pd\n",
        "import seaborn as sns\n",
        "from sklearn.model_selection import ShuffleSplit\n",
        "import matplotlib.pyplot as plt\n",
        "%matplotlib inline"
      ],
      "execution_count": 0,
      "outputs": []
    },
    {
      "cell_type": "code",
      "metadata": {
        "id": "hAxS8s7Nrvl5",
        "colab_type": "code",
        "outputId": "f6922faa-6e7e-4c00-a54f-0ce0fa70209c",
        "executionInfo": {
          "status": "ok",
          "timestamp": 1590069412194,
          "user_tz": -330,
          "elapsed": 10663,
          "user": {
            "displayName": "ml learning",
            "photoUrl": "",
            "userId": "11852164450280049527"
          }
        },
        "colab": {
          "base_uri": "https://localhost:8080/",
          "height": 68
        }
      },
      "source": [
        "!mkdir ~/.kaggle\n",
        "!touch ~/.kaggle/kaggle.json\n",
        "\n",
        "api_token = {\"username\":\"vinodkumar9576\",\"key\":\"af074010bd4c7bb75f9d1fe71f31452d\"}\n",
        "\n",
        "import json\n",
        "\n",
        "with open('/root/.kaggle/kaggle.json', 'w') as file:\n",
        "  json.dump(api_token, file)\n",
        "\n",
        "!chmod 600 ~/.kaggle/kaggle.json\n",
        "\n",
        "!kaggle datasets download -d schirmerchad/bostonhoustingmlnd\n",
        "\n",
        "from zipfile import ZipFile\n",
        "import pandas as pd\n",
        "\n",
        "with ZipFile('/content/bostonhoustingmlnd.zip','r') as z:\n",
        "  hs_data = pd.read_csv(z.open('housing.csv'))"
      ],
      "execution_count": 0,
      "outputs": [
        {
          "output_type": "stream",
          "text": [
            "Downloading bostonhoustingmlnd.zip to /content\n",
            "\r  0% 0.00/4.35k [00:00<?, ?B/s]\n",
            "\r100% 4.35k/4.35k [00:00<00:00, 6.92MB/s]\n"
          ],
          "name": "stdout"
        }
      ]
    },
    {
      "cell_type": "code",
      "metadata": {
        "id": "bie6sntgujve",
        "colab_type": "code",
        "outputId": "f6daa6d7-056b-4f9f-9f0e-6db7238df9f8",
        "executionInfo": {
          "status": "ok",
          "timestamp": 1590069431422,
          "user_tz": -330,
          "elapsed": 1408,
          "user": {
            "displayName": "ml learning",
            "photoUrl": "",
            "userId": "11852164450280049527"
          }
        },
        "colab": {
          "base_uri": "https://localhost:8080/",
          "height": 204
        }
      },
      "source": [
        "hs_data.head()"
      ],
      "execution_count": 0,
      "outputs": [
        {
          "output_type": "execute_result",
          "data": {
            "text/html": [
              "<div>\n",
              "<style scoped>\n",
              "    .dataframe tbody tr th:only-of-type {\n",
              "        vertical-align: middle;\n",
              "    }\n",
              "\n",
              "    .dataframe tbody tr th {\n",
              "        vertical-align: top;\n",
              "    }\n",
              "\n",
              "    .dataframe thead th {\n",
              "        text-align: right;\n",
              "    }\n",
              "</style>\n",
              "<table border=\"1\" class=\"dataframe\">\n",
              "  <thead>\n",
              "    <tr style=\"text-align: right;\">\n",
              "      <th></th>\n",
              "      <th>RM</th>\n",
              "      <th>LSTAT</th>\n",
              "      <th>PTRATIO</th>\n",
              "      <th>MEDV</th>\n",
              "    </tr>\n",
              "  </thead>\n",
              "  <tbody>\n",
              "    <tr>\n",
              "      <th>0</th>\n",
              "      <td>6.575</td>\n",
              "      <td>4.98</td>\n",
              "      <td>15.3</td>\n",
              "      <td>504000.0</td>\n",
              "    </tr>\n",
              "    <tr>\n",
              "      <th>1</th>\n",
              "      <td>6.421</td>\n",
              "      <td>9.14</td>\n",
              "      <td>17.8</td>\n",
              "      <td>453600.0</td>\n",
              "    </tr>\n",
              "    <tr>\n",
              "      <th>2</th>\n",
              "      <td>7.185</td>\n",
              "      <td>4.03</td>\n",
              "      <td>17.8</td>\n",
              "      <td>728700.0</td>\n",
              "    </tr>\n",
              "    <tr>\n",
              "      <th>3</th>\n",
              "      <td>6.998</td>\n",
              "      <td>2.94</td>\n",
              "      <td>18.7</td>\n",
              "      <td>701400.0</td>\n",
              "    </tr>\n",
              "    <tr>\n",
              "      <th>4</th>\n",
              "      <td>7.147</td>\n",
              "      <td>5.33</td>\n",
              "      <td>18.7</td>\n",
              "      <td>760200.0</td>\n",
              "    </tr>\n",
              "  </tbody>\n",
              "</table>\n",
              "</div>"
            ],
            "text/plain": [
              "      RM  LSTAT  PTRATIO      MEDV\n",
              "0  6.575   4.98     15.3  504000.0\n",
              "1  6.421   9.14     17.8  453600.0\n",
              "2  7.185   4.03     17.8  728700.0\n",
              "3  6.998   2.94     18.7  701400.0\n",
              "4  7.147   5.33     18.7  760200.0"
            ]
          },
          "metadata": {
            "tags": []
          },
          "execution_count": 4
        }
      ]
    },
    {
      "cell_type": "code",
      "metadata": {
        "id": "DKbwRk5VuqKc",
        "colab_type": "code",
        "outputId": "5785ee57-f914-42b1-af5d-ab44367884fd",
        "executionInfo": {
          "status": "ok",
          "timestamp": 1589393732012,
          "user_tz": -330,
          "elapsed": 9031,
          "user": {
            "displayName": "ml learning",
            "photoUrl": "",
            "userId": "11852164450280049527"
          }
        },
        "colab": {
          "base_uri": "https://localhost:8080/",
          "height": 34
        }
      },
      "source": [
        "hs_data.shape"
      ],
      "execution_count": 0,
      "outputs": [
        {
          "output_type": "execute_result",
          "data": {
            "text/plain": [
              "(489, 4)"
            ]
          },
          "metadata": {
            "tags": []
          },
          "execution_count": 21
        }
      ]
    },
    {
      "cell_type": "markdown",
      "metadata": {
        "id": "EuJ3oTxgYBhS",
        "colab_type": "text"
      },
      "source": [
        "**<h1>Splitting the data**"
      ]
    },
    {
      "cell_type": "code",
      "metadata": {
        "id": "GKgR0kqeX_qC",
        "colab_type": "code",
        "outputId": "50120441-eb0d-4aed-f4d6-452f89880622",
        "executionInfo": {
          "status": "ok",
          "timestamp": 1590069435784,
          "user_tz": -330,
          "elapsed": 998,
          "user": {
            "displayName": "ml learning",
            "photoUrl": "",
            "userId": "11852164450280049527"
          }
        },
        "colab": {
          "base_uri": "https://localhost:8080/",
          "height": 34
        }
      },
      "source": [
        "prices = hs_data['MEDV']\n",
        "features = hs_data.drop(labels=['MEDV'], axis = 1)\n",
        "\n",
        "print('Boston housing dataset has {} data points with {} variables each'.format(*hs_data.shape))"
      ],
      "execution_count": 0,
      "outputs": [
        {
          "output_type": "stream",
          "text": [
            "Boston housing dataset has 489 data points with 4 variables each\n"
          ],
          "name": "stdout"
        }
      ]
    },
    {
      "cell_type": "code",
      "metadata": {
        "id": "62sr8ZZdZc9c",
        "colab_type": "code",
        "outputId": "3f286271-a21e-4f11-bf8b-d3cbaf92674e",
        "executionInfo": {
          "status": "ok",
          "timestamp": 1590069441870,
          "user_tz": -330,
          "elapsed": 1182,
          "user": {
            "displayName": "ml learning",
            "photoUrl": "",
            "userId": "11852164450280049527"
          }
        },
        "colab": {
          "base_uri": "https://localhost:8080/",
          "height": 419
        }
      },
      "source": [
        "features"
      ],
      "execution_count": 0,
      "outputs": [
        {
          "output_type": "execute_result",
          "data": {
            "text/html": [
              "<div>\n",
              "<style scoped>\n",
              "    .dataframe tbody tr th:only-of-type {\n",
              "        vertical-align: middle;\n",
              "    }\n",
              "\n",
              "    .dataframe tbody tr th {\n",
              "        vertical-align: top;\n",
              "    }\n",
              "\n",
              "    .dataframe thead th {\n",
              "        text-align: right;\n",
              "    }\n",
              "</style>\n",
              "<table border=\"1\" class=\"dataframe\">\n",
              "  <thead>\n",
              "    <tr style=\"text-align: right;\">\n",
              "      <th></th>\n",
              "      <th>RM</th>\n",
              "      <th>LSTAT</th>\n",
              "      <th>PTRATIO</th>\n",
              "    </tr>\n",
              "  </thead>\n",
              "  <tbody>\n",
              "    <tr>\n",
              "      <th>0</th>\n",
              "      <td>6.575</td>\n",
              "      <td>4.98</td>\n",
              "      <td>15.3</td>\n",
              "    </tr>\n",
              "    <tr>\n",
              "      <th>1</th>\n",
              "      <td>6.421</td>\n",
              "      <td>9.14</td>\n",
              "      <td>17.8</td>\n",
              "    </tr>\n",
              "    <tr>\n",
              "      <th>2</th>\n",
              "      <td>7.185</td>\n",
              "      <td>4.03</td>\n",
              "      <td>17.8</td>\n",
              "    </tr>\n",
              "    <tr>\n",
              "      <th>3</th>\n",
              "      <td>6.998</td>\n",
              "      <td>2.94</td>\n",
              "      <td>18.7</td>\n",
              "    </tr>\n",
              "    <tr>\n",
              "      <th>4</th>\n",
              "      <td>7.147</td>\n",
              "      <td>5.33</td>\n",
              "      <td>18.7</td>\n",
              "    </tr>\n",
              "    <tr>\n",
              "      <th>...</th>\n",
              "      <td>...</td>\n",
              "      <td>...</td>\n",
              "      <td>...</td>\n",
              "    </tr>\n",
              "    <tr>\n",
              "      <th>484</th>\n",
              "      <td>6.593</td>\n",
              "      <td>9.67</td>\n",
              "      <td>21.0</td>\n",
              "    </tr>\n",
              "    <tr>\n",
              "      <th>485</th>\n",
              "      <td>6.120</td>\n",
              "      <td>9.08</td>\n",
              "      <td>21.0</td>\n",
              "    </tr>\n",
              "    <tr>\n",
              "      <th>486</th>\n",
              "      <td>6.976</td>\n",
              "      <td>5.64</td>\n",
              "      <td>21.0</td>\n",
              "    </tr>\n",
              "    <tr>\n",
              "      <th>487</th>\n",
              "      <td>6.794</td>\n",
              "      <td>6.48</td>\n",
              "      <td>21.0</td>\n",
              "    </tr>\n",
              "    <tr>\n",
              "      <th>488</th>\n",
              "      <td>6.030</td>\n",
              "      <td>7.88</td>\n",
              "      <td>21.0</td>\n",
              "    </tr>\n",
              "  </tbody>\n",
              "</table>\n",
              "<p>489 rows \u00d7 3 columns</p>\n",
              "</div>"
            ],
            "text/plain": [
              "        RM  LSTAT  PTRATIO\n",
              "0    6.575   4.98     15.3\n",
              "1    6.421   9.14     17.8\n",
              "2    7.185   4.03     17.8\n",
              "3    6.998   2.94     18.7\n",
              "4    7.147   5.33     18.7\n",
              "..     ...    ...      ...\n",
              "484  6.593   9.67     21.0\n",
              "485  6.120   9.08     21.0\n",
              "486  6.976   5.64     21.0\n",
              "487  6.794   6.48     21.0\n",
              "488  6.030   7.88     21.0\n",
              "\n",
              "[489 rows x 3 columns]"
            ]
          },
          "metadata": {
            "tags": []
          },
          "execution_count": 6
        }
      ]
    },
    {
      "cell_type": "code",
      "metadata": {
        "id": "VJFBioAOZrcl",
        "colab_type": "code",
        "outputId": "ada9e3db-3c62-4271-9bd9-d22c6f82a7fb",
        "executionInfo": {
          "status": "ok",
          "timestamp": 1589393732020,
          "user_tz": -330,
          "elapsed": 8983,
          "user": {
            "displayName": "ml learning",
            "photoUrl": "",
            "userId": "11852164450280049527"
          }
        },
        "colab": {
          "base_uri": "https://localhost:8080/",
          "height": 221
        }
      },
      "source": [
        "prices"
      ],
      "execution_count": 0,
      "outputs": [
        {
          "output_type": "execute_result",
          "data": {
            "text/plain": [
              "0      504000.0\n",
              "1      453600.0\n",
              "2      728700.0\n",
              "3      701400.0\n",
              "4      760200.0\n",
              "         ...   \n",
              "484    470400.0\n",
              "485    432600.0\n",
              "486    501900.0\n",
              "487    462000.0\n",
              "488    249900.0\n",
              "Name: MEDV, Length: 489, dtype: float64"
            ]
          },
          "metadata": {
            "tags": []
          },
          "execution_count": 24
        }
      ]
    },
    {
      "cell_type": "markdown",
      "metadata": {
        "id": "zcb3_BFdanj9",
        "colab_type": "text"
      },
      "source": [
        "**<h1> Distribution of data**"
      ]
    },
    {
      "cell_type": "code",
      "metadata": {
        "id": "joBxQ3rpechu",
        "colab_type": "code",
        "colab": {}
      },
      "source": [
        "import plotly.graph_objects as go\n",
        "from plotly.subplots import make_subplots"
      ],
      "execution_count": 0,
      "outputs": []
    },
    {
      "cell_type": "code",
      "metadata": {
        "id": "I-e5JU7TefoI",
        "colab_type": "code",
        "outputId": "b338c770-4bd3-4bfa-e296-28f2bd5ae860",
        "executionInfo": {
          "status": "ok",
          "timestamp": 1590069449765,
          "user_tz": -330,
          "elapsed": 2022,
          "user": {
            "displayName": "ml learning",
            "photoUrl": "",
            "userId": "11852164450280049527"
          }
        },
        "colab": {
          "base_uri": "https://localhost:8080/",
          "height": 542
        }
      },
      "source": [
        "figp = make_subplots(rows=1,cols=3, subplot_titles=['Average number of rooms distribution','Homeowners distribution with low class','Students to Teachers ratio distribution'])\n",
        "\n",
        "figp.add_trace(go.Histogram(x=hs_data['RM'], nbinsy=15, name='RM'), row=1,col=1)\n",
        "figp.add_trace(go.Histogram(x=hs_data['LSTAT'], nbinsy=15, name='LSTAT'), row=1,col=2)\n",
        "figp.add_trace(go.Histogram(x=hs_data['PTRATIO'], nbinsy=15, name='PTRATIO'), row=1,col=3)\n",
        "\n",
        "#making xaxes label\n",
        "figp.update_xaxes(title_text='RM', row=1, col=1)\n",
        "figp.update_xaxes(title_text='LSTAT', row=1, col=2)\n",
        "figp.update_xaxes(title_text='PTRATIO', row=1, col=3)\n",
        "\n",
        "#making Yaxes label\n",
        "figp.update_yaxes(title_text='frequency', row=1, col=1)\n",
        "figp.update_yaxes(title_text='frequency', row=1, col=2)\n",
        "figp.update_yaxes(title_text='frequency', row=1, col=3)\n",
        "\n",
        "figp.update_layout(\n",
        "    title = 'Distribution of features',\n",
        "    title_x=0.5\n",
        ")\n",
        "\n",
        "figp.show()"
      ],
      "execution_count": 0,
      "outputs": [
        {
          "output_type": "display_data",
          "data": {
            "text/html": [
              "<html>\n",
              "<head><meta charset=\"utf-8\" /></head>\n",
              "<body>\n",
              "    <div>\n",
              "            <script src=\"https://cdnjs.cloudflare.com/ajax/libs/mathjax/2.7.5/MathJax.js?config=TeX-AMS-MML_SVG\"></script><script type=\"text/javascript\">if (window.MathJax) {MathJax.Hub.Config({SVG: {font: \"STIX-Web\"}});}</script>\n",
              "                <script type=\"text/javascript\">window.PlotlyConfig = {MathJaxConfig: 'local'};</script>\n",
              "        <script src=\"https://cdn.plot.ly/plotly-latest.min.js\"></script>    \n",
              "            <div id=\"944725bb-f6e2-4337-91d2-0595548425a2\" class=\"plotly-graph-div\" style=\"height:525px; width:100%;\"></div>\n",
              "            <script type=\"text/javascript\">\n",
              "                \n",
              "                    window.PLOTLYENV=window.PLOTLYENV || {};\n",
              "                    \n",
              "                if (document.getElementById(\"944725bb-f6e2-4337-91d2-0595548425a2\")) {\n",
              "                    Plotly.newPlot(\n",
              "                        '944725bb-f6e2-4337-91d2-0595548425a2',\n",
              "                        [{\"name\": \"RM\", \"nbinsy\": 15, \"type\": \"histogram\", \"x\": [6.575, 6.421, 7.185, 6.997999999999999, 7.147, 6.43, 6.0120000000000005, 6.172000000000001, 5.631, 6.004, 6.377000000000001, 6.0089999999999995, 5.888999999999999, 5.949, 6.096, 5.834, 5.935, 5.99, 5.456, 5.727, 5.57, 5.965, 6.142, 5.813, 5.9239999999999995, 5.599, 5.813, 6.047000000000001, 6.495, 6.6739999999999995, 5.712999999999999, 6.072, 5.95, 5.7010000000000005, 6.096, 5.933, 5.841, 5.85, 5.966, 6.595, 7.024, 6.77, 6.169, 6.211, 6.069, 5.682, 5.7860000000000005, 6.03, 5.399, 5.602, 5.962999999999999, 6.115, 6.511, 5.997999999999999, 5.888, 7.249, 6.382999999999999, 6.816, 6.145, 5.9270000000000005, 5.7410000000000005, 5.966, 6.456, 6.7620000000000005, 7.104, 6.29, 5.787000000000001, 5.877999999999999, 5.593999999999999, 5.885, 6.417000000000001, 5.961, 6.065, 6.245, 6.273, 6.2860000000000005, 6.279, 6.14, 6.232, 5.874, 6.727, 6.619, 6.3020000000000005, 6.167000000000001, 6.388999999999999, 6.63, 6.015, 6.121, 7.007000000000001, 7.079, 6.417000000000001, 6.405, 6.442, 6.211, 6.249, 6.625, 6.162999999999999, 8.068999999999999, 7.82, 7.416, 6.727, 6.781000000000001, 6.405, 6.1370000000000005, 6.167000000000001, 5.851, 5.836, 6.127000000000001, 6.474, 6.229, 6.195, 6.715, 5.912999999999999, 6.0920000000000005, 6.254, 5.928, 6.176, 6.021, 5.872000000000001, 5.731, 5.87, 6.004, 5.961, 5.856, 5.879, 5.986000000000001, 5.6129999999999995, 5.693, 6.431, 5.6370000000000005, 6.457999999999999, 6.3260000000000005, 6.372000000000001, 5.822, 5.757000000000001, 6.335, 5.942, 6.454, 5.857, 6.151, 6.1739999999999995, 5.019, 5.403, 5.468, 4.9030000000000005, 6.13, 5.627999999999999, 4.926, 5.186, 5.597, 6.122000000000001, 5.404, 5.012, 5.709, 6.129, 6.152, 5.272, 6.943, 6.066, 6.51, 6.25, 5.854, 6.101, 5.877000000000001, 6.319, 6.402, 5.875, 5.88, 5.572, 6.416, 5.859, 6.546, 6.02, 6.315, 6.86, 6.98, 7.765, 6.144, 7.155, 6.563, 5.604, 6.153, 6.782, 6.556, 7.185, 6.9510000000000005, 6.739, 7.178, 6.8, 6.604, 7.287000000000001, 7.107, 7.274, 6.975, 7.135, 6.162000000000001, 7.61, 7.853, 5.891, 6.3260000000000005, 5.7829999999999995, 6.064, 5.343999999999999, 5.96, 5.404, 5.807, 6.375, 5.412000000000001, 6.182, 5.888, 6.642, 5.9510000000000005, 6.372999999999999, 6.9510000000000005, 6.164, 6.879, 6.617999999999999, 8.266, 8.04, 7.162999999999999, 7.686, 6.5520000000000005, 5.981, 7.412000000000001, 8.337, 8.247, 6.726, 6.086, 6.631, 7.358, 6.481, 6.606, 6.897, 6.095, 6.358, 6.393, 5.593, 5.605, 6.108, 6.226, 6.433, 6.718, 6.487, 6.438, 6.957000000000001, 8.259, 6.108, 5.876, 7.454, 7.332999999999999, 6.8420000000000005, 7.202999999999999, 7.52, 8.398, 7.327000000000001, 7.206, 5.56, 7.013999999999999, 7.47, 5.92, 5.856, 6.24, 6.537999999999999, 7.691, 6.757999999999999, 6.854, 7.267, 6.8260000000000005, 6.482, 6.812, 7.82, 6.968, 7.645, 7.087999999999999, 6.452999999999999, 6.23, 6.209, 6.315, 6.565, 6.861000000000001, 7.148, 6.63, 6.127000000000001, 6.0089999999999995, 6.678, 6.5489999999999995, 5.79, 6.345, 7.041, 6.871, 6.59, 6.495, 6.982, 7.236000000000001, 6.6160000000000005, 7.42, 6.849, 6.635, 5.972, 4.973, 6.122000000000001, 6.023, 6.266, 6.567, 5.705, 5.914, 5.782, 6.382000000000001, 6.1129999999999995, 6.426, 6.376, 6.041, 5.707999999999999, 6.415, 6.431, 6.312, 6.082999999999999, 5.867999999999999, 6.332999999999999, 6.144, 5.706, 6.031000000000001, 6.316, 6.31, 6.037000000000001, 5.869, 5.895, 6.059, 5.985, 5.968, 7.2410000000000005, 6.54, 6.696000000000001, 6.874, 6.013999999999999, 5.898, 6.516, 6.635, 6.939, 6.49, 6.579, 5.8839999999999995, 6.728, 5.662999999999999, 5.936, 6.212000000000001, 6.395, 6.127000000000001, 6.112, 6.398, 6.251, 5.362, 5.803, 3.5610000000000004, 4.963, 3.863, 4.906000000000001, 4.138, 7.313, 6.649, 6.794, 6.38, 6.223, 6.968, 6.545, 5.5360000000000005, 5.52, 4.368, 5.277, 4.652, 5.0, 4.88, 5.39, 5.712999999999999, 6.051, 5.0360000000000005, 6.193, 5.8870000000000005, 6.471, 6.405, 5.747000000000001, 5.452999999999999, 5.852, 5.987, 6.343, 6.404, 5.349, 5.531000000000001, 5.683, 4.138, 5.608, 5.617000000000001, 6.852, 5.757000000000001, 6.657, 4.628, 5.155, 4.519, 6.434, 6.782, 5.303999999999999, 5.957000000000001, 6.824, 6.4110000000000005, 6.006, 5.648, 6.103, 5.565, 5.896, 5.837000000000001, 6.202000000000001, 6.193, 6.38, 6.348, 6.832999999999999, 6.425, 6.436, 6.207999999999999, 6.629, 6.461, 6.152, 5.935, 5.627000000000001, 5.818, 6.406000000000001, 6.218999999999999, 6.485, 5.854, 6.459, 6.341, 6.251, 6.185, 6.417000000000001, 6.749, 6.655, 6.297000000000001, 7.393, 6.728, 6.525, 5.976, 5.936, 6.301, 6.081, 6.7010000000000005, 6.376, 6.317, 6.513, 6.209, 5.7589999999999995, 5.952000000000001, 6.002999999999999, 5.926, 5.712999999999999, 6.167000000000001, 6.229, 6.437, 6.98, 5.4270000000000005, 6.162000000000001, 6.484, 5.303999999999999, 6.185, 6.229, 6.242000000000001, 6.75, 7.061, 5.7620000000000005, 5.871, 6.312, 6.114, 5.905, 5.454, 5.414, 5.093, 5.983, 5.983, 5.707000000000001, 5.926, 5.67, 5.39, 5.794, 6.019, 5.569, 6.027, 6.593, 6.12, 6.976, 6.794, 6.03], \"xaxis\": \"x\", \"yaxis\": \"y\"}, {\"name\": \"LSTAT\", \"nbinsy\": 15, \"type\": \"histogram\", \"x\": [4.98, 9.14, 4.03, 2.94, 5.33, 5.21, 12.43, 19.15, 29.93, 17.1, 20.45, 13.27, 15.71, 8.26, 10.26, 8.47, 6.58, 14.67, 11.69, 11.28, 21.02, 13.83, 18.72, 19.88, 16.3, 16.51, 14.81, 17.28, 12.8, 11.98, 22.6, 13.04, 27.71, 18.35, 20.34, 9.68, 11.41, 8.77, 10.13, 4.32, 1.98, 4.84, 5.81, 7.44, 9.55, 10.21, 14.15, 18.8, 30.81, 16.2, 13.45, 9.43, 5.28, 8.43, 14.8, 4.81, 5.77, 3.95, 6.86, 9.22, 13.15, 14.44, 6.73, 9.5, 8.05, 4.67, 10.24, 8.1, 13.09, 8.79, 6.72, 9.88, 5.52, 7.54, 6.78, 8.94, 11.97, 10.27, 12.34, 9.1, 5.29, 7.22, 6.72, 7.51, 9.62, 6.53, 12.86, 8.44, 5.5, 5.7, 8.81, 8.2, 8.16, 6.21, 10.59, 6.65, 11.34, 4.21, 3.57, 6.19, 9.42, 7.67, 10.63, 13.44, 12.33, 16.47, 18.66, 14.09, 12.27, 15.55, 13.0, 10.16, 16.21, 17.09, 10.45, 15.76, 12.04, 10.3, 15.37, 13.61, 14.37, 14.27, 17.93, 25.41, 17.58, 14.81, 27.26, 17.19, 15.39, 18.34, 12.6, 12.26, 11.12, 15.03, 17.31, 16.96, 16.9, 14.59, 21.32, 18.46, 24.16, 34.41, 26.82, 26.42, 29.29, 27.8, 16.65, 29.53, 28.32, 21.45, 14.1, 13.28, 12.12, 15.79, 15.12, 15.02, 16.14, 4.59, 6.43, 7.39, 5.5, 11.64, 9.81, 12.14, 11.1, 11.32, 14.43, 12.03, 14.69, 9.04, 9.64, 5.33, 10.11, 6.29, 6.92, 5.04, 7.56, 9.45, 4.82, 5.68, 13.98, 13.15, 6.68, 4.56, 5.39, 5.1, 4.69, 2.87, 5.03, 4.38, 4.08, 8.61, 6.62, 4.56, 4.45, 7.43, 3.11, 3.81, 10.87, 10.97, 18.06, 14.66, 23.09, 17.27, 23.98, 16.03, 9.38, 29.55, 9.47, 13.51, 9.69, 17.92, 10.5, 9.71, 21.46, 9.93, 7.6, 4.14, 3.13, 6.36, 3.92, 3.76, 11.65, 5.25, 2.47, 3.95, 8.05, 10.88, 9.54, 4.73, 6.36, 7.37, 11.38, 12.4, 11.22, 5.19, 12.5, 18.46, 9.16, 10.15, 9.52, 6.56, 5.9, 3.59, 3.53, 3.54, 6.57, 9.25, 3.11, 7.79, 6.9, 9.59, 7.26, 5.91, 11.25, 8.1, 10.45, 14.79, 3.16, 13.65, 13.0, 6.59, 7.73, 6.58, 3.53, 2.98, 6.05, 4.16, 7.19, 4.85, 3.76, 4.59, 3.01, 7.85, 8.23, 12.93, 7.14, 7.6, 9.51, 3.33, 3.56, 4.7, 8.58, 10.4, 6.27, 7.39, 15.84, 4.97, 4.74, 6.07, 9.5, 8.67, 4.86, 6.93, 8.93, 6.47, 7.53, 4.54, 9.97, 12.64, 5.98, 11.72, 7.9, 9.28, 11.5, 18.33, 15.94, 10.36, 12.73, 7.2, 6.87, 7.7, 11.74, 6.12, 5.08, 6.15, 12.79, 9.97, 7.34, 9.09, 12.43, 7.83, 5.68, 6.75, 8.01, 9.8, 10.56, 8.51, 9.74, 9.29, 5.49, 8.65, 7.18, 4.61, 10.53, 12.67, 6.36, 5.99, 5.89, 5.98, 5.49, 7.79, 4.5, 8.05, 5.57, 17.6, 13.27, 11.48, 12.67, 7.79, 14.19, 10.19, 14.64, 7.12, 14.0, 13.33, 34.77, 37.97, 13.44, 23.24, 21.24, 23.69, 21.78, 17.21, 21.08, 23.6, 24.56, 30.63, 30.81, 28.28, 31.99, 30.62, 20.85, 17.11, 18.76, 25.68, 15.17, 16.35, 17.12, 19.37, 19.92, 30.59, 29.97, 26.77, 20.32, 20.31, 19.77, 27.38, 22.98, 23.34, 12.13, 26.4, 19.78, 10.11, 21.22, 34.37, 20.08, 36.98, 29.05, 25.79, 26.64, 20.62, 22.74, 15.02, 15.7, 14.1, 23.29, 17.16, 24.39, 15.69, 14.52, 21.52, 24.08, 17.64, 19.69, 12.03, 16.22, 15.17, 23.27, 18.05, 26.45, 34.02, 22.88, 22.11, 19.52, 16.59, 18.85, 23.79, 23.98, 17.79, 16.44, 18.13, 19.31, 17.44, 17.73, 17.27, 16.74, 18.71, 18.13, 19.01, 16.94, 16.23, 14.7, 16.42, 14.65, 13.99, 10.29, 13.22, 14.13, 17.15, 21.32, 18.13, 14.76, 16.29, 12.87, 14.36, 11.66, 18.14, 24.1, 18.68, 24.91, 18.03, 13.11, 10.74, 7.74, 7.01, 10.42, 13.34, 10.58, 14.98, 11.45, 18.06, 23.97, 29.68, 18.07, 13.35, 12.01, 13.59, 17.6, 21.14, 14.1, 12.92, 15.1, 14.33, 9.67, 9.08, 5.64, 6.48, 7.88], \"xaxis\": \"x2\", \"yaxis\": \"y2\"}, {\"name\": \"PTRATIO\", \"nbinsy\": 15, \"type\": \"histogram\", \"x\": [15.3, 17.8, 17.8, 18.7, 18.7, 18.7, 15.2, 15.2, 15.2, 15.2, 15.2, 15.2, 15.2, 21.0, 21.0, 21.0, 21.0, 21.0, 21.0, 21.0, 21.0, 21.0, 21.0, 21.0, 21.0, 21.0, 21.0, 21.0, 21.0, 21.0, 21.0, 21.0, 21.0, 21.0, 21.0, 19.2, 19.2, 19.2, 19.2, 18.3, 18.3, 17.9, 17.9, 17.9, 17.9, 17.9, 17.9, 17.9, 17.9, 17.9, 16.8, 16.8, 16.8, 16.8, 21.1, 17.9, 17.3, 15.1, 19.7, 19.7, 19.7, 19.7, 19.7, 19.7, 18.6, 16.1, 16.1, 18.9, 18.9, 18.9, 19.2, 19.2, 19.2, 19.2, 18.7, 18.7, 18.7, 18.7, 18.7, 18.7, 19.0, 19.0, 19.0, 19.0, 18.5, 18.5, 18.5, 18.5, 17.8, 17.8, 17.8, 17.8, 18.2, 18.2, 18.2, 18.0, 18.0, 18.0, 18.0, 18.0, 20.9, 20.9, 20.9, 20.9, 20.9, 20.9, 20.9, 20.9, 20.9, 20.9, 20.9, 17.8, 17.8, 17.8, 17.8, 17.8, 17.8, 17.8, 17.8, 17.8, 19.1, 19.1, 19.1, 19.1, 19.1, 19.1, 19.1, 21.2, 21.2, 21.2, 21.2, 21.2, 21.2, 21.2, 21.2, 21.2, 21.2, 21.2, 21.2, 21.2, 21.2, 21.2, 14.7, 14.7, 14.7, 14.7, 14.7, 14.7, 14.7, 14.7, 14.7, 14.7, 14.7, 14.7, 14.7, 14.7, 14.7, 14.7, 14.7, 14.7, 14.7, 14.7, 14.7, 14.7, 14.7, 14.7, 14.7, 14.7, 16.6, 16.6, 16.6, 16.6, 16.6, 16.6, 16.6, 17.8, 17.8, 17.8, 17.8, 17.8, 17.8, 17.8, 15.2, 15.2, 15.2, 15.2, 15.2, 15.2, 15.6, 15.6, 12.6, 12.6, 12.6, 17.0, 17.0, 14.7, 14.7, 14.7, 18.6, 18.6, 18.6, 18.6, 18.6, 18.6, 18.6, 18.6, 18.6, 18.6, 18.6, 16.4, 16.4, 16.4, 16.4, 17.4, 17.4, 17.4, 17.4, 17.4, 17.4, 17.4, 17.4, 17.4, 17.4, 17.4, 17.4, 17.4, 17.4, 17.4, 17.4, 17.4, 16.6, 16.6, 16.6, 16.6, 16.6, 16.6, 19.1, 19.1, 19.1, 19.1, 19.1, 19.1, 19.1, 19.1, 19.1, 19.1, 16.4, 16.4, 15.9, 13.0, 13.0, 13.0, 13.0, 13.0, 13.0, 13.0, 13.0, 13.0, 13.0, 18.6, 18.6, 18.6, 18.6, 18.6, 17.6, 17.6, 17.6, 17.6, 17.6, 14.9, 14.9, 14.9, 14.9, 15.3, 15.3, 18.2, 16.6, 16.6, 16.6, 19.2, 19.2, 19.2, 16.0, 16.0, 16.0, 16.0, 16.0, 14.8, 14.8, 14.8, 16.1, 16.1, 16.1, 18.4, 18.4, 18.4, 18.4, 18.4, 18.4, 18.4, 18.4, 18.4, 18.4, 18.4, 18.4, 18.4, 18.4, 18.4, 18.4, 19.6, 19.6, 19.6, 19.6, 19.6, 19.6, 19.6, 19.6, 16.9, 16.9, 16.9, 16.9, 16.9, 20.2, 20.2, 20.2, 20.2, 20.2, 20.2, 20.2, 20.2, 15.5, 15.9, 17.6, 17.6, 18.8, 18.8, 17.9, 17.0, 19.7, 19.7, 18.3, 18.3, 17.0, 22.0, 22.0, 20.2, 20.2, 20.2, 20.2, 20.2, 20.2, 20.2, 20.2, 20.2, 20.2, 20.2, 20.2, 20.2, 20.2, 20.2, 20.2, 20.2, 20.2, 20.2, 20.2, 20.2, 20.2, 20.2, 20.2, 20.2, 20.2, 20.2, 20.2, 20.2, 20.2, 20.2, 20.2, 20.2, 20.2, 20.2, 20.2, 20.2, 20.2, 20.2, 20.2, 20.2, 20.2, 20.2, 20.2, 20.2, 20.2, 20.2, 20.2, 20.2, 20.2, 20.2, 20.2, 20.2, 20.2, 20.2, 20.2, 20.2, 20.2, 20.2, 20.2, 20.2, 20.2, 20.2, 20.2, 20.2, 20.2, 20.2, 20.2, 20.2, 20.2, 20.2, 20.2, 20.2, 20.2, 20.2, 20.2, 20.2, 20.2, 20.2, 20.2, 20.2, 20.2, 20.2, 20.2, 20.2, 20.2, 20.2, 20.2, 20.2, 20.2, 20.2, 20.2, 20.2, 20.2, 20.2, 20.2, 20.2, 20.2, 20.2, 20.2, 20.2, 20.2, 20.2, 20.2, 20.2, 20.2, 20.2, 20.2, 20.2, 20.2, 20.2, 20.2, 20.2, 20.2, 20.2, 20.2, 20.2, 20.2, 20.2, 20.2, 20.2, 20.2, 20.2, 20.2, 20.2, 20.2, 20.1, 20.1, 20.1, 20.1, 20.1, 19.2, 19.2, 19.2, 19.2, 19.2, 19.2, 19.2, 19.2, 21.0, 21.0, 21.0, 21.0, 21.0], \"xaxis\": \"x3\", \"yaxis\": \"y3\"}],\n",
              "                        {\"annotations\": [{\"font\": {\"size\": 16}, \"showarrow\": false, \"text\": \"Average number of rooms distribution\", \"x\": 0.14444444444444446, \"xanchor\": \"center\", \"xref\": \"paper\", \"y\": 1.0, \"yanchor\": \"bottom\", \"yref\": \"paper\"}, {\"font\": {\"size\": 16}, \"showarrow\": false, \"text\": \"Homeowners distribution with low class\", \"x\": 0.5, \"xanchor\": \"center\", \"xref\": \"paper\", \"y\": 1.0, \"yanchor\": \"bottom\", \"yref\": \"paper\"}, {\"font\": {\"size\": 16}, \"showarrow\": false, \"text\": \"Students to Teachers ratio distribution\", \"x\": 0.8555555555555556, \"xanchor\": \"center\", \"xref\": \"paper\", \"y\": 1.0, \"yanchor\": \"bottom\", \"yref\": \"paper\"}], \"template\": {\"data\": {\"bar\": [{\"error_x\": {\"color\": \"#2a3f5f\"}, \"error_y\": {\"color\": \"#2a3f5f\"}, \"marker\": {\"line\": {\"color\": \"#E5ECF6\", \"width\": 0.5}}, \"type\": \"bar\"}], \"barpolar\": [{\"marker\": {\"line\": {\"color\": \"#E5ECF6\", \"width\": 0.5}}, \"type\": \"barpolar\"}], \"carpet\": [{\"aaxis\": {\"endlinecolor\": \"#2a3f5f\", \"gridcolor\": \"white\", \"linecolor\": \"white\", \"minorgridcolor\": \"white\", \"startlinecolor\": \"#2a3f5f\"}, \"baxis\": {\"endlinecolor\": \"#2a3f5f\", \"gridcolor\": \"white\", \"linecolor\": \"white\", \"minorgridcolor\": \"white\", \"startlinecolor\": \"#2a3f5f\"}, \"type\": \"carpet\"}], \"choropleth\": [{\"colorbar\": {\"outlinewidth\": 0, \"ticks\": \"\"}, \"type\": \"choropleth\"}], \"contour\": [{\"colorbar\": {\"outlinewidth\": 0, \"ticks\": \"\"}, \"colorscale\": [[0.0, \"#0d0887\"], [0.1111111111111111, \"#46039f\"], [0.2222222222222222, \"#7201a8\"], [0.3333333333333333, \"#9c179e\"], [0.4444444444444444, \"#bd3786\"], [0.5555555555555556, \"#d8576b\"], [0.6666666666666666, \"#ed7953\"], [0.7777777777777778, \"#fb9f3a\"], [0.8888888888888888, \"#fdca26\"], [1.0, \"#f0f921\"]], \"type\": \"contour\"}], \"contourcarpet\": [{\"colorbar\": {\"outlinewidth\": 0, \"ticks\": \"\"}, \"type\": \"contourcarpet\"}], \"heatmap\": [{\"colorbar\": {\"outlinewidth\": 0, \"ticks\": \"\"}, \"colorscale\": [[0.0, \"#0d0887\"], [0.1111111111111111, \"#46039f\"], [0.2222222222222222, \"#7201a8\"], [0.3333333333333333, \"#9c179e\"], [0.4444444444444444, \"#bd3786\"], [0.5555555555555556, \"#d8576b\"], [0.6666666666666666, \"#ed7953\"], [0.7777777777777778, \"#fb9f3a\"], [0.8888888888888888, \"#fdca26\"], [1.0, \"#f0f921\"]], \"type\": \"heatmap\"}], \"heatmapgl\": [{\"colorbar\": {\"outlinewidth\": 0, \"ticks\": \"\"}, \"colorscale\": [[0.0, \"#0d0887\"], [0.1111111111111111, \"#46039f\"], [0.2222222222222222, \"#7201a8\"], [0.3333333333333333, \"#9c179e\"], [0.4444444444444444, \"#bd3786\"], [0.5555555555555556, \"#d8576b\"], [0.6666666666666666, \"#ed7953\"], [0.7777777777777778, \"#fb9f3a\"], [0.8888888888888888, \"#fdca26\"], [1.0, \"#f0f921\"]], \"type\": \"heatmapgl\"}], \"histogram\": [{\"marker\": {\"colorbar\": {\"outlinewidth\": 0, \"ticks\": \"\"}}, \"type\": \"histogram\"}], \"histogram2d\": [{\"colorbar\": {\"outlinewidth\": 0, \"ticks\": \"\"}, \"colorscale\": [[0.0, \"#0d0887\"], [0.1111111111111111, \"#46039f\"], [0.2222222222222222, \"#7201a8\"], [0.3333333333333333, \"#9c179e\"], [0.4444444444444444, \"#bd3786\"], [0.5555555555555556, \"#d8576b\"], [0.6666666666666666, \"#ed7953\"], [0.7777777777777778, \"#fb9f3a\"], [0.8888888888888888, \"#fdca26\"], [1.0, \"#f0f921\"]], \"type\": \"histogram2d\"}], \"histogram2dcontour\": [{\"colorbar\": {\"outlinewidth\": 0, \"ticks\": \"\"}, \"colorscale\": [[0.0, \"#0d0887\"], [0.1111111111111111, \"#46039f\"], [0.2222222222222222, \"#7201a8\"], [0.3333333333333333, \"#9c179e\"], [0.4444444444444444, \"#bd3786\"], [0.5555555555555556, \"#d8576b\"], [0.6666666666666666, \"#ed7953\"], [0.7777777777777778, \"#fb9f3a\"], [0.8888888888888888, \"#fdca26\"], [1.0, \"#f0f921\"]], \"type\": \"histogram2dcontour\"}], \"mesh3d\": [{\"colorbar\": {\"outlinewidth\": 0, \"ticks\": \"\"}, \"type\": \"mesh3d\"}], \"parcoords\": [{\"line\": {\"colorbar\": {\"outlinewidth\": 0, \"ticks\": \"\"}}, \"type\": \"parcoords\"}], \"pie\": [{\"automargin\": true, \"type\": \"pie\"}], \"scatter\": [{\"marker\": {\"colorbar\": {\"outlinewidth\": 0, \"ticks\": \"\"}}, \"type\": \"scatter\"}], \"scatter3d\": [{\"line\": {\"colorbar\": {\"outlinewidth\": 0, \"ticks\": \"\"}}, \"marker\": {\"colorbar\": {\"outlinewidth\": 0, \"ticks\": \"\"}}, \"type\": \"scatter3d\"}], \"scattercarpet\": [{\"marker\": {\"colorbar\": {\"outlinewidth\": 0, \"ticks\": \"\"}}, \"type\": \"scattercarpet\"}], \"scattergeo\": [{\"marker\": {\"colorbar\": {\"outlinewidth\": 0, \"ticks\": \"\"}}, \"type\": \"scattergeo\"}], \"scattergl\": [{\"marker\": {\"colorbar\": {\"outlinewidth\": 0, \"ticks\": \"\"}}, \"type\": \"scattergl\"}], \"scattermapbox\": [{\"marker\": {\"colorbar\": {\"outlinewidth\": 0, \"ticks\": \"\"}}, \"type\": \"scattermapbox\"}], \"scatterpolar\": [{\"marker\": {\"colorbar\": {\"outlinewidth\": 0, \"ticks\": \"\"}}, \"type\": \"scatterpolar\"}], \"scatterpolargl\": [{\"marker\": {\"colorbar\": {\"outlinewidth\": 0, \"ticks\": \"\"}}, \"type\": \"scatterpolargl\"}], \"scatterternary\": [{\"marker\": {\"colorbar\": {\"outlinewidth\": 0, \"ticks\": \"\"}}, \"type\": \"scatterternary\"}], \"surface\": [{\"colorbar\": {\"outlinewidth\": 0, \"ticks\": \"\"}, \"colorscale\": [[0.0, \"#0d0887\"], [0.1111111111111111, \"#46039f\"], [0.2222222222222222, \"#7201a8\"], [0.3333333333333333, \"#9c179e\"], [0.4444444444444444, \"#bd3786\"], [0.5555555555555556, \"#d8576b\"], [0.6666666666666666, \"#ed7953\"], [0.7777777777777778, \"#fb9f3a\"], [0.8888888888888888, \"#fdca26\"], [1.0, \"#f0f921\"]], \"type\": \"surface\"}], \"table\": [{\"cells\": {\"fill\": {\"color\": \"#EBF0F8\"}, \"line\": {\"color\": \"white\"}}, \"header\": {\"fill\": {\"color\": \"#C8D4E3\"}, \"line\": {\"color\": \"white\"}}, \"type\": \"table\"}]}, \"layout\": {\"annotationdefaults\": {\"arrowcolor\": \"#2a3f5f\", \"arrowhead\": 0, \"arrowwidth\": 1}, \"coloraxis\": {\"colorbar\": {\"outlinewidth\": 0, \"ticks\": \"\"}}, \"colorscale\": {\"diverging\": [[0, \"#8e0152\"], [0.1, \"#c51b7d\"], [0.2, \"#de77ae\"], [0.3, \"#f1b6da\"], [0.4, \"#fde0ef\"], [0.5, \"#f7f7f7\"], [0.6, \"#e6f5d0\"], [0.7, \"#b8e186\"], [0.8, \"#7fbc41\"], [0.9, \"#4d9221\"], [1, \"#276419\"]], \"sequential\": [[0.0, \"#0d0887\"], [0.1111111111111111, \"#46039f\"], [0.2222222222222222, \"#7201a8\"], [0.3333333333333333, \"#9c179e\"], [0.4444444444444444, \"#bd3786\"], [0.5555555555555556, \"#d8576b\"], [0.6666666666666666, \"#ed7953\"], [0.7777777777777778, \"#fb9f3a\"], [0.8888888888888888, \"#fdca26\"], [1.0, \"#f0f921\"]], \"sequentialminus\": [[0.0, \"#0d0887\"], [0.1111111111111111, \"#46039f\"], [0.2222222222222222, \"#7201a8\"], [0.3333333333333333, \"#9c179e\"], [0.4444444444444444, \"#bd3786\"], [0.5555555555555556, \"#d8576b\"], [0.6666666666666666, \"#ed7953\"], [0.7777777777777778, \"#fb9f3a\"], [0.8888888888888888, \"#fdca26\"], [1.0, \"#f0f921\"]]}, \"colorway\": [\"#636efa\", \"#EF553B\", \"#00cc96\", \"#ab63fa\", \"#FFA15A\", \"#19d3f3\", \"#FF6692\", \"#B6E880\", \"#FF97FF\", \"#FECB52\"], \"font\": {\"color\": \"#2a3f5f\"}, \"geo\": {\"bgcolor\": \"white\", \"lakecolor\": \"white\", \"landcolor\": \"#E5ECF6\", \"showlakes\": true, \"showland\": true, \"subunitcolor\": \"white\"}, \"hoverlabel\": {\"align\": \"left\"}, \"hovermode\": \"closest\", \"mapbox\": {\"style\": \"light\"}, \"paper_bgcolor\": \"white\", \"plot_bgcolor\": \"#E5ECF6\", \"polar\": {\"angularaxis\": {\"gridcolor\": \"white\", \"linecolor\": \"white\", \"ticks\": \"\"}, \"bgcolor\": \"#E5ECF6\", \"radialaxis\": {\"gridcolor\": \"white\", \"linecolor\": \"white\", \"ticks\": \"\"}}, \"scene\": {\"xaxis\": {\"backgroundcolor\": \"#E5ECF6\", \"gridcolor\": \"white\", \"gridwidth\": 2, \"linecolor\": \"white\", \"showbackground\": true, \"ticks\": \"\", \"zerolinecolor\": \"white\"}, \"yaxis\": {\"backgroundcolor\": \"#E5ECF6\", \"gridcolor\": \"white\", \"gridwidth\": 2, \"linecolor\": \"white\", \"showbackground\": true, \"ticks\": \"\", \"zerolinecolor\": \"white\"}, \"zaxis\": {\"backgroundcolor\": \"#E5ECF6\", \"gridcolor\": \"white\", \"gridwidth\": 2, \"linecolor\": \"white\", \"showbackground\": true, \"ticks\": \"\", \"zerolinecolor\": \"white\"}}, \"shapedefaults\": {\"line\": {\"color\": \"#2a3f5f\"}}, \"ternary\": {\"aaxis\": {\"gridcolor\": \"white\", \"linecolor\": \"white\", \"ticks\": \"\"}, \"baxis\": {\"gridcolor\": \"white\", \"linecolor\": \"white\", \"ticks\": \"\"}, \"bgcolor\": \"#E5ECF6\", \"caxis\": {\"gridcolor\": \"white\", \"linecolor\": \"white\", \"ticks\": \"\"}}, \"title\": {\"x\": 0.05}, \"xaxis\": {\"automargin\": true, \"gridcolor\": \"white\", \"linecolor\": \"white\", \"ticks\": \"\", \"title\": {\"standoff\": 15}, \"zerolinecolor\": \"white\", \"zerolinewidth\": 2}, \"yaxis\": {\"automargin\": true, \"gridcolor\": \"white\", \"linecolor\": \"white\", \"ticks\": \"\", \"title\": {\"standoff\": 15}, \"zerolinecolor\": \"white\", \"zerolinewidth\": 2}}}, \"title\": {\"text\": \"Distribution of features\", \"x\": 0.5}, \"xaxis\": {\"anchor\": \"y\", \"domain\": [0.0, 0.2888888888888889], \"title\": {\"text\": \"RM\"}}, \"xaxis2\": {\"anchor\": \"y2\", \"domain\": [0.35555555555555557, 0.6444444444444445], \"title\": {\"text\": \"LSTAT\"}}, \"xaxis3\": {\"anchor\": \"y3\", \"domain\": [0.7111111111111111, 1.0], \"title\": {\"text\": \"PTRATIO\"}}, \"yaxis\": {\"anchor\": \"x\", \"domain\": [0.0, 1.0], \"title\": {\"text\": \"frequency\"}}, \"yaxis2\": {\"anchor\": \"x2\", \"domain\": [0.0, 1.0], \"title\": {\"text\": \"frequency\"}}, \"yaxis3\": {\"anchor\": \"x3\", \"domain\": [0.0, 1.0], \"title\": {\"text\": \"frequency\"}}},\n",
              "                        {\"responsive\": true}\n",
              "                    ).then(function(){\n",
              "                            \n",
              "var gd = document.getElementById('944725bb-f6e2-4337-91d2-0595548425a2');\n",
              "var x = new MutationObserver(function (mutations, observer) {{\n",
              "        var display = window.getComputedStyle(gd).display;\n",
              "        if (!display || display === 'none') {{\n",
              "            console.log([gd, 'removed!']);\n",
              "            Plotly.purge(gd);\n",
              "            observer.disconnect();\n",
              "        }}\n",
              "}});\n",
              "\n",
              "// Listen for the removal of the full notebook cells\n",
              "var notebookContainer = gd.closest('#notebook-container');\n",
              "if (notebookContainer) {{\n",
              "    x.observe(notebookContainer, {childList: true});\n",
              "}}\n",
              "\n",
              "// Listen for the clearing of the current output cell\n",
              "var outputEl = gd.closest('.output');\n",
              "if (outputEl) {{\n",
              "    x.observe(outputEl, {childList: true});\n",
              "}}\n",
              "\n",
              "                        })\n",
              "                };\n",
              "                \n",
              "            </script>\n",
              "        </div>\n",
              "</body>\n",
              "</html>"
            ]
          },
          "metadata": {
            "tags": []
          }
        }
      ]
    },
    {
      "cell_type": "markdown",
      "metadata": {
        "id": "iDukchmPxhP1",
        "colab_type": "text"
      },
      "source": [
        "**<h1> Data Exploration**"
      ]
    },
    {
      "cell_type": "markdown",
      "metadata": {
        "id": "2PDJvtGHxlxk",
        "colab_type": "text"
      },
      "source": [
        "**<h2>Implementation: Calculate Statistics**"
      ]
    },
    {
      "cell_type": "markdown",
      "metadata": {
        "id": "wkmLiecgx7bQ",
        "colab_type": "text"
      },
      "source": [
        "* Now, we are going to calculate the statistics like **min**, **max**, **mean**, **median**, **standard deviation** of output variable i.e. 'MEDV'."
      ]
    },
    {
      "cell_type": "code",
      "metadata": {
        "id": "pOhsqzuZpiMH",
        "colab_type": "code",
        "outputId": "3b00c847-844d-4a56-8ee7-34ad4bd2312a",
        "executionInfo": {
          "status": "ok",
          "timestamp": 1590069466656,
          "user_tz": -330,
          "elapsed": 1136,
          "user": {
            "displayName": "ml learning",
            "photoUrl": "",
            "userId": "11852164450280049527"
          }
        },
        "colab": {
          "base_uri": "https://localhost:8080/",
          "height": 102
        }
      },
      "source": [
        "min_price=np.min(prices)\n",
        "\n",
        "max_price = np.max(prices)\n",
        "\n",
        "mean_price = np.mean(prices)\n",
        "\n",
        "median_price = np.median(prices)\n",
        "\n",
        "std_price = np.std(prices)\n",
        "\n",
        "#printing\n",
        "print(f'Minimum price : ${min_price}')\n",
        "print(f'Maximum price : ${max_price}')\n",
        "print(f'Mean price : ${mean_price}')\n",
        "print(f'Median price : ${median_price}')\n",
        "print(f'Standard deviation of price : ${std_price}')"
      ],
      "execution_count": 0,
      "outputs": [
        {
          "output_type": "stream",
          "text": [
            "Minimum price : $105000.0\n",
            "Maximum price : $1024800.0\n",
            "Mean price : $454342.9447852761\n",
            "Median price : $438900.0\n",
            "Standard deviation of price : $165171.13154429477\n"
          ],
          "name": "stdout"
        }
      ]
    },
    {
      "cell_type": "markdown",
      "metadata": {
        "id": "i3CWxj3izw8Y",
        "colab_type": "text"
      },
      "source": [
        "**<h2>Plot of features Vs price**"
      ]
    },
    {
      "cell_type": "code",
      "metadata": {
        "id": "pLys0w58zmvB",
        "colab_type": "code",
        "outputId": "c1217e7d-8974-416a-83cd-863d5fadf6cb",
        "executionInfo": {
          "status": "ok",
          "timestamp": 1590069470684,
          "user_tz": -330,
          "elapsed": 1442,
          "user": {
            "displayName": "ml learning",
            "photoUrl": "",
            "userId": "11852164450280049527"
          }
        },
        "colab": {
          "base_uri": "https://localhost:8080/",
          "height": 542
        }
      },
      "source": [
        "figp = make_subplots(rows=1,cols=3, subplot_titles=['Price and Average number of rooms',\n",
        "                                                   'Price Vs % of low class Homeowners',\n",
        "                                                   'Price Vs Ratio of Students to Teachers'])\n",
        "\n",
        "figp.add_trace(go.Scatter(x=hs_data['RM'], y = hs_data['MEDV'], name ='RM', mode ='markers'), row=1, col=1)\n",
        "figp.add_trace(go.Scatter(x=hs_data['LSTAT'], y = hs_data['MEDV'], name ='LSTAT', mode ='markers'), row=1, col=2)\n",
        "figp.add_trace(go.Scatter(x=hs_data['PTRATIO'], y = hs_data['MEDV'], name ='PTRATIO', mode ='markers'), row=1, col=3)\n",
        "\n",
        "\n",
        "#xlabels\n",
        "figp.update_xaxes(title_text='RM', row=1,col=1)\n",
        "figp.update_xaxes(title_text='LSTAT', row=1,col=2)\n",
        "figp.update_xaxes(title_text='PTRATIO', row=1,col=3)\n",
        "\n",
        "#Ylabels\n",
        "figp.update_yaxes(title_text='Prices', row=1,col=1)\n",
        "figp.update_yaxes(title_text='Prices', row=1,col=2)\n",
        "figp.update_yaxes(title_text='Prices', row=1,col=3)\n",
        "\n",
        "figp.update_layout(\n",
        "    title='Plot of feature Vs price',\n",
        "    title_x =0.5\n",
        ")\n",
        "\n",
        "figp.show()"
      ],
      "execution_count": 0,
      "outputs": [
        {
          "output_type": "display_data",
          "data": {
            "text/html": [
              "<html>\n",
              "<head><meta charset=\"utf-8\" /></head>\n",
              "<body>\n",
              "    <div>\n",
              "            <script src=\"https://cdnjs.cloudflare.com/ajax/libs/mathjax/2.7.5/MathJax.js?config=TeX-AMS-MML_SVG\"></script><script type=\"text/javascript\">if (window.MathJax) {MathJax.Hub.Config({SVG: {font: \"STIX-Web\"}});}</script>\n",
              "                <script type=\"text/javascript\">window.PlotlyConfig = {MathJaxConfig: 'local'};</script>\n",
              "        <script src=\"https://cdn.plot.ly/plotly-latest.min.js\"></script>    \n",
              "            <div id=\"69c6cf91-be91-410c-bd50-a0b98b017295\" class=\"plotly-graph-div\" style=\"height:525px; width:100%;\"></div>\n",
              "            <script type=\"text/javascript\">\n",
              "                \n",
              "                    window.PLOTLYENV=window.PLOTLYENV || {};\n",
              "                    \n",
              "                if (document.getElementById(\"69c6cf91-be91-410c-bd50-a0b98b017295\")) {\n",
              "                    Plotly.newPlot(\n",
              "                        '69c6cf91-be91-410c-bd50-a0b98b017295',\n",
              "                        [{\"mode\": \"markers\", \"name\": \"RM\", \"type\": \"scatter\", \"x\": [6.575, 6.421, 7.185, 6.997999999999999, 7.147, 6.43, 6.0120000000000005, 6.172000000000001, 5.631, 6.004, 6.377000000000001, 6.0089999999999995, 5.888999999999999, 5.949, 6.096, 5.834, 5.935, 5.99, 5.456, 5.727, 5.57, 5.965, 6.142, 5.813, 5.9239999999999995, 5.599, 5.813, 6.047000000000001, 6.495, 6.6739999999999995, 5.712999999999999, 6.072, 5.95, 5.7010000000000005, 6.096, 5.933, 5.841, 5.85, 5.966, 6.595, 7.024, 6.77, 6.169, 6.211, 6.069, 5.682, 5.7860000000000005, 6.03, 5.399, 5.602, 5.962999999999999, 6.115, 6.511, 5.997999999999999, 5.888, 7.249, 6.382999999999999, 6.816, 6.145, 5.9270000000000005, 5.7410000000000005, 5.966, 6.456, 6.7620000000000005, 7.104, 6.29, 5.787000000000001, 5.877999999999999, 5.593999999999999, 5.885, 6.417000000000001, 5.961, 6.065, 6.245, 6.273, 6.2860000000000005, 6.279, 6.14, 6.232, 5.874, 6.727, 6.619, 6.3020000000000005, 6.167000000000001, 6.388999999999999, 6.63, 6.015, 6.121, 7.007000000000001, 7.079, 6.417000000000001, 6.405, 6.442, 6.211, 6.249, 6.625, 6.162999999999999, 8.068999999999999, 7.82, 7.416, 6.727, 6.781000000000001, 6.405, 6.1370000000000005, 6.167000000000001, 5.851, 5.836, 6.127000000000001, 6.474, 6.229, 6.195, 6.715, 5.912999999999999, 6.0920000000000005, 6.254, 5.928, 6.176, 6.021, 5.872000000000001, 5.731, 5.87, 6.004, 5.961, 5.856, 5.879, 5.986000000000001, 5.6129999999999995, 5.693, 6.431, 5.6370000000000005, 6.457999999999999, 6.3260000000000005, 6.372000000000001, 5.822, 5.757000000000001, 6.335, 5.942, 6.454, 5.857, 6.151, 6.1739999999999995, 5.019, 5.403, 5.468, 4.9030000000000005, 6.13, 5.627999999999999, 4.926, 5.186, 5.597, 6.122000000000001, 5.404, 5.012, 5.709, 6.129, 6.152, 5.272, 6.943, 6.066, 6.51, 6.25, 5.854, 6.101, 5.877000000000001, 6.319, 6.402, 5.875, 5.88, 5.572, 6.416, 5.859, 6.546, 6.02, 6.315, 6.86, 6.98, 7.765, 6.144, 7.155, 6.563, 5.604, 6.153, 6.782, 6.556, 7.185, 6.9510000000000005, 6.739, 7.178, 6.8, 6.604, 7.287000000000001, 7.107, 7.274, 6.975, 7.135, 6.162000000000001, 7.61, 7.853, 5.891, 6.3260000000000005, 5.7829999999999995, 6.064, 5.343999999999999, 5.96, 5.404, 5.807, 6.375, 5.412000000000001, 6.182, 5.888, 6.642, 5.9510000000000005, 6.372999999999999, 6.9510000000000005, 6.164, 6.879, 6.617999999999999, 8.266, 8.04, 7.162999999999999, 7.686, 6.5520000000000005, 5.981, 7.412000000000001, 8.337, 8.247, 6.726, 6.086, 6.631, 7.358, 6.481, 6.606, 6.897, 6.095, 6.358, 6.393, 5.593, 5.605, 6.108, 6.226, 6.433, 6.718, 6.487, 6.438, 6.957000000000001, 8.259, 6.108, 5.876, 7.454, 7.332999999999999, 6.8420000000000005, 7.202999999999999, 7.52, 8.398, 7.327000000000001, 7.206, 5.56, 7.013999999999999, 7.47, 5.92, 5.856, 6.24, 6.537999999999999, 7.691, 6.757999999999999, 6.854, 7.267, 6.8260000000000005, 6.482, 6.812, 7.82, 6.968, 7.645, 7.087999999999999, 6.452999999999999, 6.23, 6.209, 6.315, 6.565, 6.861000000000001, 7.148, 6.63, 6.127000000000001, 6.0089999999999995, 6.678, 6.5489999999999995, 5.79, 6.345, 7.041, 6.871, 6.59, 6.495, 6.982, 7.236000000000001, 6.6160000000000005, 7.42, 6.849, 6.635, 5.972, 4.973, 6.122000000000001, 6.023, 6.266, 6.567, 5.705, 5.914, 5.782, 6.382000000000001, 6.1129999999999995, 6.426, 6.376, 6.041, 5.707999999999999, 6.415, 6.431, 6.312, 6.082999999999999, 5.867999999999999, 6.332999999999999, 6.144, 5.706, 6.031000000000001, 6.316, 6.31, 6.037000000000001, 5.869, 5.895, 6.059, 5.985, 5.968, 7.2410000000000005, 6.54, 6.696000000000001, 6.874, 6.013999999999999, 5.898, 6.516, 6.635, 6.939, 6.49, 6.579, 5.8839999999999995, 6.728, 5.662999999999999, 5.936, 6.212000000000001, 6.395, 6.127000000000001, 6.112, 6.398, 6.251, 5.362, 5.803, 3.5610000000000004, 4.963, 3.863, 4.906000000000001, 4.138, 7.313, 6.649, 6.794, 6.38, 6.223, 6.968, 6.545, 5.5360000000000005, 5.52, 4.368, 5.277, 4.652, 5.0, 4.88, 5.39, 5.712999999999999, 6.051, 5.0360000000000005, 6.193, 5.8870000000000005, 6.471, 6.405, 5.747000000000001, 5.452999999999999, 5.852, 5.987, 6.343, 6.404, 5.349, 5.531000000000001, 5.683, 4.138, 5.608, 5.617000000000001, 6.852, 5.757000000000001, 6.657, 4.628, 5.155, 4.519, 6.434, 6.782, 5.303999999999999, 5.957000000000001, 6.824, 6.4110000000000005, 6.006, 5.648, 6.103, 5.565, 5.896, 5.837000000000001, 6.202000000000001, 6.193, 6.38, 6.348, 6.832999999999999, 6.425, 6.436, 6.207999999999999, 6.629, 6.461, 6.152, 5.935, 5.627000000000001, 5.818, 6.406000000000001, 6.218999999999999, 6.485, 5.854, 6.459, 6.341, 6.251, 6.185, 6.417000000000001, 6.749, 6.655, 6.297000000000001, 7.393, 6.728, 6.525, 5.976, 5.936, 6.301, 6.081, 6.7010000000000005, 6.376, 6.317, 6.513, 6.209, 5.7589999999999995, 5.952000000000001, 6.002999999999999, 5.926, 5.712999999999999, 6.167000000000001, 6.229, 6.437, 6.98, 5.4270000000000005, 6.162000000000001, 6.484, 5.303999999999999, 6.185, 6.229, 6.242000000000001, 6.75, 7.061, 5.7620000000000005, 5.871, 6.312, 6.114, 5.905, 5.454, 5.414, 5.093, 5.983, 5.983, 5.707000000000001, 5.926, 5.67, 5.39, 5.794, 6.019, 5.569, 6.027, 6.593, 6.12, 6.976, 6.794, 6.03], \"xaxis\": \"x\", \"y\": [504000.0, 453600.0, 728700.0, 701400.0, 760200.0, 602700.0, 480900.0, 569100.0, 346500.0, 396900.0, 315000.0, 396900.0, 455700.0, 428400.0, 382200.0, 417900.0, 485100.0, 367500.0, 424200.0, 382200.0, 285600.0, 411600.0, 319200.0, 304500.0, 327600.0, 291900.0, 348600.0, 310800.0, 386400.0, 441000.0, 266700.0, 304500.0, 277200.0, 275100.0, 283500.0, 396900.0, 420000.0, 441000.0, 518700.0, 646800.0, 732900.0, 558600.0, 531300.0, 518700.0, 445200.0, 405300.0, 420000.0, 348600.0, 302400.0, 407400.0, 413700.0, 430500.0, 525000.0, 491400.0, 396900.0, 743400.0, 518700.0, 663600.0, 489300.0, 411600.0, 392700.0, 336000.0, 466200.0, 525000.0, 693000.0, 493500.0, 407400.0, 462000.0, 365400.0, 438900.0, 508200.0, 455700.0, 478800.0, 491400.0, 506100.0, 449400.0, 420000.0, 436800.0, 445200.0, 426300.0, 588000.0, 501900.0, 520800.0, 480900.0, 501900.0, 558600.0, 472500.0, 466200.0, 495600.0, 602700.0, 474600.0, 462000.0, 480900.0, 525000.0, 432600.0, 596400.0, 449400.0, 812700.0, 919800.0, 697200.0, 577500.0, 556500.0, 390600.0, 405300.0, 422100.0, 409500.0, 409500.0, 428400.0, 415800.0, 407400.0, 455700.0, 478800.0, 394800.0, 392700.0, 388500.0, 384300.0, 445200.0, 403200.0, 428400.0, 405300.0, 462000.0, 426300.0, 430500.0, 363300.0, 394800.0, 449400.0, 329700.0, 340200.0, 378000.0, 300300.0, 403200.0, 411600.0, 483000.0, 386400.0, 327600.0, 380100.0, 365400.0, 359100.0, 279300.0, 373800.0, 294000.0, 302400.0, 281400.0, 327600.0, 247800.0, 289800.0, 327600.0, 306600.0, 373800.0, 323400.0, 451500.0, 411600.0, 321300.0, 407400.0, 357000.0, 327600.0, 275100.0, 867300.0, 510300.0, 489300.0, 567000.0, 476700.0, 525000.0, 499800.0, 499800.0, 468300.0, 365400.0, 401100.0, 485100.0, 495600.0, 474600.0, 617400.0, 487200.0, 516600.0, 627900.0, 781200.0, 835800.0, 760200.0, 795900.0, 682500.0, 554400.0, 621600.0, 672000.0, 625800.0, 732900.0, 777000.0, 640500.0, 764400.0, 653100.0, 611100.0, 699300.0, 636300.0, 726600.0, 732900.0, 690900.0, 506100.0, 888300.0, 1018500.0, 474600.0, 512400.0, 472500.0, 512400.0, 420000.0, 455700.0, 405300.0, 470400.0, 590100.0, 497700.0, 525000.0, 489300.0, 602700.0, 451500.0, 483000.0, 560700.0, 455700.0, 577500.0, 632100.0, 940800.0, 789600.0, 663600.0, 980700.0, 661500.0, 510300.0, 665700.0, 875700.0, 1014300.0, 609000.0, 504000.0, 527100.0, 661500.0, 497700.0, 489300.0, 462000.0, 422100.0, 466200.0, 497700.0, 369600.0, 388500.0, 510300.0, 430500.0, 514500.0, 550200.0, 512400.0, 520800.0, 621600.0, 898800.0, 459900.0, 438900.0, 924000.0, 756000.0, 632100.0, 709800.0, 905100.0, 1024800.0, 651000.0, 766500.0, 478800.0, 644700.0, 913500.0, 434700.0, 443100.0, 529200.0, 512400.0, 739200.0, 680400.0, 672000.0, 697200.0, 695100.0, 611100.0, 737100.0, 953400.0, 743400.0, 966000.0, 676200.0, 462000.0, 422100.0, 487200.0, 468300.0, 520800.0, 598500.0, 783300.0, 585900.0, 501900.0, 455700.0, 600600.0, 569100.0, 426300.0, 472500.0, 609000.0, 520800.0, 462000.0, 554400.0, 695100.0, 758100.0, 596400.0, 701400.0, 592200.0, 478800.0, 426300.0, 338100.0, 464100.0, 407400.0, 453600.0, 499800.0, 340200.0, 373800.0, 415800.0, 485100.0, 441000.0, 499800.0, 485100.0, 428400.0, 388500.0, 525000.0, 516600.0, 483000.0, 466200.0, 405300.0, 474600.0, 415800.0, 359100.0, 407400.0, 466200.0, 434700.0, 443100.0, 409500.0, 388500.0, 432600.0, 399000.0, 392700.0, 686700.0, 346500.0, 501900.0, 655200.0, 367500.0, 361200.0, 485100.0, 514500.0, 558600.0, 480900.0, 506100.0, 390600.0, 632100.0, 382200.0, 432600.0, 373800.0, 455700.0, 476700.0, 474600.0, 525000.0, 417900.0, 436800.0, 352800.0, 577500.0, 459900.0, 485100.0, 289800.0, 289800.0, 315000.0, 291900.0, 279300.0, 275100.0, 214200.0, 218400.0, 228900.0, 237300.0, 258300.0, 184800.0, 151200.0, 220500.0, 155400.0, 214200.0, 241500.0, 317100.0, 487200.0, 203700.0, 289800.0, 266700.0, 275100.0, 262500.0, 178500.0, 105000.0, 132300.0, 117600.0, 151200.0, 254100.0, 174300.0, 178500.0, 105000.0, 249900.0, 585900.0, 361200.0, 577500.0, 315000.0, 361200.0, 375900.0, 342300.0, 147000.0, 151200.0, 157500.0, 218400.0, 184800.0, 176400.0, 350700.0, 298200.0, 436800.0, 281400.0, 245700.0, 174300.0, 214200.0, 228900.0, 231000.0, 199500.0, 304500.0, 296100.0, 338100.0, 300300.0, 245700.0, 281400.0, 201600.0, 182700.0, 176400.0, 268800.0, 220500.0, 359100.0, 386400.0, 323400.0, 226800.0, 247800.0, 312900.0, 264600.0, 296100.0, 273000.0, 281400.0, 319200.0, 338100.0, 373800.0, 312900.0, 296100.0, 266700.0, 283500.0, 312900.0, 420000.0, 344400.0, 371700.0, 409500.0, 424200.0, 449400.0, 417900.0, 399000.0, 401100.0, 401100.0, 422100.0, 417900.0, 411600.0, 487200.0, 625800.0, 289800.0, 279300.0, 350700.0, 252000.0, 306600.0, 449400.0, 483000.0, 497700.0, 525000.0, 457800.0, 432600.0, 445200.0, 401100.0, 432600.0, 319200.0, 147000.0, 170100.0, 285600.0, 422100.0, 457800.0, 514500.0, 485100.0, 413700.0, 384300.0, 445200.0, 367500.0, 352800.0, 470400.0, 432600.0, 501900.0, 462000.0, 249900.0], \"yaxis\": \"y\"}, {\"mode\": \"markers\", \"name\": \"LSTAT\", \"type\": \"scatter\", \"x\": [4.98, 9.14, 4.03, 2.94, 5.33, 5.21, 12.43, 19.15, 29.93, 17.1, 20.45, 13.27, 15.71, 8.26, 10.26, 8.47, 6.58, 14.67, 11.69, 11.28, 21.02, 13.83, 18.72, 19.88, 16.3, 16.51, 14.81, 17.28, 12.8, 11.98, 22.6, 13.04, 27.71, 18.35, 20.34, 9.68, 11.41, 8.77, 10.13, 4.32, 1.98, 4.84, 5.81, 7.44, 9.55, 10.21, 14.15, 18.8, 30.81, 16.2, 13.45, 9.43, 5.28, 8.43, 14.8, 4.81, 5.77, 3.95, 6.86, 9.22, 13.15, 14.44, 6.73, 9.5, 8.05, 4.67, 10.24, 8.1, 13.09, 8.79, 6.72, 9.88, 5.52, 7.54, 6.78, 8.94, 11.97, 10.27, 12.34, 9.1, 5.29, 7.22, 6.72, 7.51, 9.62, 6.53, 12.86, 8.44, 5.5, 5.7, 8.81, 8.2, 8.16, 6.21, 10.59, 6.65, 11.34, 4.21, 3.57, 6.19, 9.42, 7.67, 10.63, 13.44, 12.33, 16.47, 18.66, 14.09, 12.27, 15.55, 13.0, 10.16, 16.21, 17.09, 10.45, 15.76, 12.04, 10.3, 15.37, 13.61, 14.37, 14.27, 17.93, 25.41, 17.58, 14.81, 27.26, 17.19, 15.39, 18.34, 12.6, 12.26, 11.12, 15.03, 17.31, 16.96, 16.9, 14.59, 21.32, 18.46, 24.16, 34.41, 26.82, 26.42, 29.29, 27.8, 16.65, 29.53, 28.32, 21.45, 14.1, 13.28, 12.12, 15.79, 15.12, 15.02, 16.14, 4.59, 6.43, 7.39, 5.5, 11.64, 9.81, 12.14, 11.1, 11.32, 14.43, 12.03, 14.69, 9.04, 9.64, 5.33, 10.11, 6.29, 6.92, 5.04, 7.56, 9.45, 4.82, 5.68, 13.98, 13.15, 6.68, 4.56, 5.39, 5.1, 4.69, 2.87, 5.03, 4.38, 4.08, 8.61, 6.62, 4.56, 4.45, 7.43, 3.11, 3.81, 10.87, 10.97, 18.06, 14.66, 23.09, 17.27, 23.98, 16.03, 9.38, 29.55, 9.47, 13.51, 9.69, 17.92, 10.5, 9.71, 21.46, 9.93, 7.6, 4.14, 3.13, 6.36, 3.92, 3.76, 11.65, 5.25, 2.47, 3.95, 8.05, 10.88, 9.54, 4.73, 6.36, 7.37, 11.38, 12.4, 11.22, 5.19, 12.5, 18.46, 9.16, 10.15, 9.52, 6.56, 5.9, 3.59, 3.53, 3.54, 6.57, 9.25, 3.11, 7.79, 6.9, 9.59, 7.26, 5.91, 11.25, 8.1, 10.45, 14.79, 3.16, 13.65, 13.0, 6.59, 7.73, 6.58, 3.53, 2.98, 6.05, 4.16, 7.19, 4.85, 3.76, 4.59, 3.01, 7.85, 8.23, 12.93, 7.14, 7.6, 9.51, 3.33, 3.56, 4.7, 8.58, 10.4, 6.27, 7.39, 15.84, 4.97, 4.74, 6.07, 9.5, 8.67, 4.86, 6.93, 8.93, 6.47, 7.53, 4.54, 9.97, 12.64, 5.98, 11.72, 7.9, 9.28, 11.5, 18.33, 15.94, 10.36, 12.73, 7.2, 6.87, 7.7, 11.74, 6.12, 5.08, 6.15, 12.79, 9.97, 7.34, 9.09, 12.43, 7.83, 5.68, 6.75, 8.01, 9.8, 10.56, 8.51, 9.74, 9.29, 5.49, 8.65, 7.18, 4.61, 10.53, 12.67, 6.36, 5.99, 5.89, 5.98, 5.49, 7.79, 4.5, 8.05, 5.57, 17.6, 13.27, 11.48, 12.67, 7.79, 14.19, 10.19, 14.64, 7.12, 14.0, 13.33, 34.77, 37.97, 13.44, 23.24, 21.24, 23.69, 21.78, 17.21, 21.08, 23.6, 24.56, 30.63, 30.81, 28.28, 31.99, 30.62, 20.85, 17.11, 18.76, 25.68, 15.17, 16.35, 17.12, 19.37, 19.92, 30.59, 29.97, 26.77, 20.32, 20.31, 19.77, 27.38, 22.98, 23.34, 12.13, 26.4, 19.78, 10.11, 21.22, 34.37, 20.08, 36.98, 29.05, 25.79, 26.64, 20.62, 22.74, 15.02, 15.7, 14.1, 23.29, 17.16, 24.39, 15.69, 14.52, 21.52, 24.08, 17.64, 19.69, 12.03, 16.22, 15.17, 23.27, 18.05, 26.45, 34.02, 22.88, 22.11, 19.52, 16.59, 18.85, 23.79, 23.98, 17.79, 16.44, 18.13, 19.31, 17.44, 17.73, 17.27, 16.74, 18.71, 18.13, 19.01, 16.94, 16.23, 14.7, 16.42, 14.65, 13.99, 10.29, 13.22, 14.13, 17.15, 21.32, 18.13, 14.76, 16.29, 12.87, 14.36, 11.66, 18.14, 24.1, 18.68, 24.91, 18.03, 13.11, 10.74, 7.74, 7.01, 10.42, 13.34, 10.58, 14.98, 11.45, 18.06, 23.97, 29.68, 18.07, 13.35, 12.01, 13.59, 17.6, 21.14, 14.1, 12.92, 15.1, 14.33, 9.67, 9.08, 5.64, 6.48, 7.88], \"xaxis\": \"x2\", \"y\": [504000.0, 453600.0, 728700.0, 701400.0, 760200.0, 602700.0, 480900.0, 569100.0, 346500.0, 396900.0, 315000.0, 396900.0, 455700.0, 428400.0, 382200.0, 417900.0, 485100.0, 367500.0, 424200.0, 382200.0, 285600.0, 411600.0, 319200.0, 304500.0, 327600.0, 291900.0, 348600.0, 310800.0, 386400.0, 441000.0, 266700.0, 304500.0, 277200.0, 275100.0, 283500.0, 396900.0, 420000.0, 441000.0, 518700.0, 646800.0, 732900.0, 558600.0, 531300.0, 518700.0, 445200.0, 405300.0, 420000.0, 348600.0, 302400.0, 407400.0, 413700.0, 430500.0, 525000.0, 491400.0, 396900.0, 743400.0, 518700.0, 663600.0, 489300.0, 411600.0, 392700.0, 336000.0, 466200.0, 525000.0, 693000.0, 493500.0, 407400.0, 462000.0, 365400.0, 438900.0, 508200.0, 455700.0, 478800.0, 491400.0, 506100.0, 449400.0, 420000.0, 436800.0, 445200.0, 426300.0, 588000.0, 501900.0, 520800.0, 480900.0, 501900.0, 558600.0, 472500.0, 466200.0, 495600.0, 602700.0, 474600.0, 462000.0, 480900.0, 525000.0, 432600.0, 596400.0, 449400.0, 812700.0, 919800.0, 697200.0, 577500.0, 556500.0, 390600.0, 405300.0, 422100.0, 409500.0, 409500.0, 428400.0, 415800.0, 407400.0, 455700.0, 478800.0, 394800.0, 392700.0, 388500.0, 384300.0, 445200.0, 403200.0, 428400.0, 405300.0, 462000.0, 426300.0, 430500.0, 363300.0, 394800.0, 449400.0, 329700.0, 340200.0, 378000.0, 300300.0, 403200.0, 411600.0, 483000.0, 386400.0, 327600.0, 380100.0, 365400.0, 359100.0, 279300.0, 373800.0, 294000.0, 302400.0, 281400.0, 327600.0, 247800.0, 289800.0, 327600.0, 306600.0, 373800.0, 323400.0, 451500.0, 411600.0, 321300.0, 407400.0, 357000.0, 327600.0, 275100.0, 867300.0, 510300.0, 489300.0, 567000.0, 476700.0, 525000.0, 499800.0, 499800.0, 468300.0, 365400.0, 401100.0, 485100.0, 495600.0, 474600.0, 617400.0, 487200.0, 516600.0, 627900.0, 781200.0, 835800.0, 760200.0, 795900.0, 682500.0, 554400.0, 621600.0, 672000.0, 625800.0, 732900.0, 777000.0, 640500.0, 764400.0, 653100.0, 611100.0, 699300.0, 636300.0, 726600.0, 732900.0, 690900.0, 506100.0, 888300.0, 1018500.0, 474600.0, 512400.0, 472500.0, 512400.0, 420000.0, 455700.0, 405300.0, 470400.0, 590100.0, 497700.0, 525000.0, 489300.0, 602700.0, 451500.0, 483000.0, 560700.0, 455700.0, 577500.0, 632100.0, 940800.0, 789600.0, 663600.0, 980700.0, 661500.0, 510300.0, 665700.0, 875700.0, 1014300.0, 609000.0, 504000.0, 527100.0, 661500.0, 497700.0, 489300.0, 462000.0, 422100.0, 466200.0, 497700.0, 369600.0, 388500.0, 510300.0, 430500.0, 514500.0, 550200.0, 512400.0, 520800.0, 621600.0, 898800.0, 459900.0, 438900.0, 924000.0, 756000.0, 632100.0, 709800.0, 905100.0, 1024800.0, 651000.0, 766500.0, 478800.0, 644700.0, 913500.0, 434700.0, 443100.0, 529200.0, 512400.0, 739200.0, 680400.0, 672000.0, 697200.0, 695100.0, 611100.0, 737100.0, 953400.0, 743400.0, 966000.0, 676200.0, 462000.0, 422100.0, 487200.0, 468300.0, 520800.0, 598500.0, 783300.0, 585900.0, 501900.0, 455700.0, 600600.0, 569100.0, 426300.0, 472500.0, 609000.0, 520800.0, 462000.0, 554400.0, 695100.0, 758100.0, 596400.0, 701400.0, 592200.0, 478800.0, 426300.0, 338100.0, 464100.0, 407400.0, 453600.0, 499800.0, 340200.0, 373800.0, 415800.0, 485100.0, 441000.0, 499800.0, 485100.0, 428400.0, 388500.0, 525000.0, 516600.0, 483000.0, 466200.0, 405300.0, 474600.0, 415800.0, 359100.0, 407400.0, 466200.0, 434700.0, 443100.0, 409500.0, 388500.0, 432600.0, 399000.0, 392700.0, 686700.0, 346500.0, 501900.0, 655200.0, 367500.0, 361200.0, 485100.0, 514500.0, 558600.0, 480900.0, 506100.0, 390600.0, 632100.0, 382200.0, 432600.0, 373800.0, 455700.0, 476700.0, 474600.0, 525000.0, 417900.0, 436800.0, 352800.0, 577500.0, 459900.0, 485100.0, 289800.0, 289800.0, 315000.0, 291900.0, 279300.0, 275100.0, 214200.0, 218400.0, 228900.0, 237300.0, 258300.0, 184800.0, 151200.0, 220500.0, 155400.0, 214200.0, 241500.0, 317100.0, 487200.0, 203700.0, 289800.0, 266700.0, 275100.0, 262500.0, 178500.0, 105000.0, 132300.0, 117600.0, 151200.0, 254100.0, 174300.0, 178500.0, 105000.0, 249900.0, 585900.0, 361200.0, 577500.0, 315000.0, 361200.0, 375900.0, 342300.0, 147000.0, 151200.0, 157500.0, 218400.0, 184800.0, 176400.0, 350700.0, 298200.0, 436800.0, 281400.0, 245700.0, 174300.0, 214200.0, 228900.0, 231000.0, 199500.0, 304500.0, 296100.0, 338100.0, 300300.0, 245700.0, 281400.0, 201600.0, 182700.0, 176400.0, 268800.0, 220500.0, 359100.0, 386400.0, 323400.0, 226800.0, 247800.0, 312900.0, 264600.0, 296100.0, 273000.0, 281400.0, 319200.0, 338100.0, 373800.0, 312900.0, 296100.0, 266700.0, 283500.0, 312900.0, 420000.0, 344400.0, 371700.0, 409500.0, 424200.0, 449400.0, 417900.0, 399000.0, 401100.0, 401100.0, 422100.0, 417900.0, 411600.0, 487200.0, 625800.0, 289800.0, 279300.0, 350700.0, 252000.0, 306600.0, 449400.0, 483000.0, 497700.0, 525000.0, 457800.0, 432600.0, 445200.0, 401100.0, 432600.0, 319200.0, 147000.0, 170100.0, 285600.0, 422100.0, 457800.0, 514500.0, 485100.0, 413700.0, 384300.0, 445200.0, 367500.0, 352800.0, 470400.0, 432600.0, 501900.0, 462000.0, 249900.0], \"yaxis\": \"y2\"}, {\"mode\": \"markers\", \"name\": \"PTRATIO\", \"type\": \"scatter\", \"x\": [15.3, 17.8, 17.8, 18.7, 18.7, 18.7, 15.2, 15.2, 15.2, 15.2, 15.2, 15.2, 15.2, 21.0, 21.0, 21.0, 21.0, 21.0, 21.0, 21.0, 21.0, 21.0, 21.0, 21.0, 21.0, 21.0, 21.0, 21.0, 21.0, 21.0, 21.0, 21.0, 21.0, 21.0, 21.0, 19.2, 19.2, 19.2, 19.2, 18.3, 18.3, 17.9, 17.9, 17.9, 17.9, 17.9, 17.9, 17.9, 17.9, 17.9, 16.8, 16.8, 16.8, 16.8, 21.1, 17.9, 17.3, 15.1, 19.7, 19.7, 19.7, 19.7, 19.7, 19.7, 18.6, 16.1, 16.1, 18.9, 18.9, 18.9, 19.2, 19.2, 19.2, 19.2, 18.7, 18.7, 18.7, 18.7, 18.7, 18.7, 19.0, 19.0, 19.0, 19.0, 18.5, 18.5, 18.5, 18.5, 17.8, 17.8, 17.8, 17.8, 18.2, 18.2, 18.2, 18.0, 18.0, 18.0, 18.0, 18.0, 20.9, 20.9, 20.9, 20.9, 20.9, 20.9, 20.9, 20.9, 20.9, 20.9, 20.9, 17.8, 17.8, 17.8, 17.8, 17.8, 17.8, 17.8, 17.8, 17.8, 19.1, 19.1, 19.1, 19.1, 19.1, 19.1, 19.1, 21.2, 21.2, 21.2, 21.2, 21.2, 21.2, 21.2, 21.2, 21.2, 21.2, 21.2, 21.2, 21.2, 21.2, 21.2, 14.7, 14.7, 14.7, 14.7, 14.7, 14.7, 14.7, 14.7, 14.7, 14.7, 14.7, 14.7, 14.7, 14.7, 14.7, 14.7, 14.7, 14.7, 14.7, 14.7, 14.7, 14.7, 14.7, 14.7, 14.7, 14.7, 16.6, 16.6, 16.6, 16.6, 16.6, 16.6, 16.6, 17.8, 17.8, 17.8, 17.8, 17.8, 17.8, 17.8, 15.2, 15.2, 15.2, 15.2, 15.2, 15.2, 15.6, 15.6, 12.6, 12.6, 12.6, 17.0, 17.0, 14.7, 14.7, 14.7, 18.6, 18.6, 18.6, 18.6, 18.6, 18.6, 18.6, 18.6, 18.6, 18.6, 18.6, 16.4, 16.4, 16.4, 16.4, 17.4, 17.4, 17.4, 17.4, 17.4, 17.4, 17.4, 17.4, 17.4, 17.4, 17.4, 17.4, 17.4, 17.4, 17.4, 17.4, 17.4, 16.6, 16.6, 16.6, 16.6, 16.6, 16.6, 19.1, 19.1, 19.1, 19.1, 19.1, 19.1, 19.1, 19.1, 19.1, 19.1, 16.4, 16.4, 15.9, 13.0, 13.0, 13.0, 13.0, 13.0, 13.0, 13.0, 13.0, 13.0, 13.0, 18.6, 18.6, 18.6, 18.6, 18.6, 17.6, 17.6, 17.6, 17.6, 17.6, 14.9, 14.9, 14.9, 14.9, 15.3, 15.3, 18.2, 16.6, 16.6, 16.6, 19.2, 19.2, 19.2, 16.0, 16.0, 16.0, 16.0, 16.0, 14.8, 14.8, 14.8, 16.1, 16.1, 16.1, 18.4, 18.4, 18.4, 18.4, 18.4, 18.4, 18.4, 18.4, 18.4, 18.4, 18.4, 18.4, 18.4, 18.4, 18.4, 18.4, 19.6, 19.6, 19.6, 19.6, 19.6, 19.6, 19.6, 19.6, 16.9, 16.9, 16.9, 16.9, 16.9, 20.2, 20.2, 20.2, 20.2, 20.2, 20.2, 20.2, 20.2, 15.5, 15.9, 17.6, 17.6, 18.8, 18.8, 17.9, 17.0, 19.7, 19.7, 18.3, 18.3, 17.0, 22.0, 22.0, 20.2, 20.2, 20.2, 20.2, 20.2, 20.2, 20.2, 20.2, 20.2, 20.2, 20.2, 20.2, 20.2, 20.2, 20.2, 20.2, 20.2, 20.2, 20.2, 20.2, 20.2, 20.2, 20.2, 20.2, 20.2, 20.2, 20.2, 20.2, 20.2, 20.2, 20.2, 20.2, 20.2, 20.2, 20.2, 20.2, 20.2, 20.2, 20.2, 20.2, 20.2, 20.2, 20.2, 20.2, 20.2, 20.2, 20.2, 20.2, 20.2, 20.2, 20.2, 20.2, 20.2, 20.2, 20.2, 20.2, 20.2, 20.2, 20.2, 20.2, 20.2, 20.2, 20.2, 20.2, 20.2, 20.2, 20.2, 20.2, 20.2, 20.2, 20.2, 20.2, 20.2, 20.2, 20.2, 20.2, 20.2, 20.2, 20.2, 20.2, 20.2, 20.2, 20.2, 20.2, 20.2, 20.2, 20.2, 20.2, 20.2, 20.2, 20.2, 20.2, 20.2, 20.2, 20.2, 20.2, 20.2, 20.2, 20.2, 20.2, 20.2, 20.2, 20.2, 20.2, 20.2, 20.2, 20.2, 20.2, 20.2, 20.2, 20.2, 20.2, 20.2, 20.2, 20.2, 20.2, 20.2, 20.2, 20.2, 20.2, 20.2, 20.2, 20.2, 20.2, 20.2, 20.2, 20.1, 20.1, 20.1, 20.1, 20.1, 19.2, 19.2, 19.2, 19.2, 19.2, 19.2, 19.2, 19.2, 21.0, 21.0, 21.0, 21.0, 21.0], \"xaxis\": \"x3\", \"y\": [504000.0, 453600.0, 728700.0, 701400.0, 760200.0, 602700.0, 480900.0, 569100.0, 346500.0, 396900.0, 315000.0, 396900.0, 455700.0, 428400.0, 382200.0, 417900.0, 485100.0, 367500.0, 424200.0, 382200.0, 285600.0, 411600.0, 319200.0, 304500.0, 327600.0, 291900.0, 348600.0, 310800.0, 386400.0, 441000.0, 266700.0, 304500.0, 277200.0, 275100.0, 283500.0, 396900.0, 420000.0, 441000.0, 518700.0, 646800.0, 732900.0, 558600.0, 531300.0, 518700.0, 445200.0, 405300.0, 420000.0, 348600.0, 302400.0, 407400.0, 413700.0, 430500.0, 525000.0, 491400.0, 396900.0, 743400.0, 518700.0, 663600.0, 489300.0, 411600.0, 392700.0, 336000.0, 466200.0, 525000.0, 693000.0, 493500.0, 407400.0, 462000.0, 365400.0, 438900.0, 508200.0, 455700.0, 478800.0, 491400.0, 506100.0, 449400.0, 420000.0, 436800.0, 445200.0, 426300.0, 588000.0, 501900.0, 520800.0, 480900.0, 501900.0, 558600.0, 472500.0, 466200.0, 495600.0, 602700.0, 474600.0, 462000.0, 480900.0, 525000.0, 432600.0, 596400.0, 449400.0, 812700.0, 919800.0, 697200.0, 577500.0, 556500.0, 390600.0, 405300.0, 422100.0, 409500.0, 409500.0, 428400.0, 415800.0, 407400.0, 455700.0, 478800.0, 394800.0, 392700.0, 388500.0, 384300.0, 445200.0, 403200.0, 428400.0, 405300.0, 462000.0, 426300.0, 430500.0, 363300.0, 394800.0, 449400.0, 329700.0, 340200.0, 378000.0, 300300.0, 403200.0, 411600.0, 483000.0, 386400.0, 327600.0, 380100.0, 365400.0, 359100.0, 279300.0, 373800.0, 294000.0, 302400.0, 281400.0, 327600.0, 247800.0, 289800.0, 327600.0, 306600.0, 373800.0, 323400.0, 451500.0, 411600.0, 321300.0, 407400.0, 357000.0, 327600.0, 275100.0, 867300.0, 510300.0, 489300.0, 567000.0, 476700.0, 525000.0, 499800.0, 499800.0, 468300.0, 365400.0, 401100.0, 485100.0, 495600.0, 474600.0, 617400.0, 487200.0, 516600.0, 627900.0, 781200.0, 835800.0, 760200.0, 795900.0, 682500.0, 554400.0, 621600.0, 672000.0, 625800.0, 732900.0, 777000.0, 640500.0, 764400.0, 653100.0, 611100.0, 699300.0, 636300.0, 726600.0, 732900.0, 690900.0, 506100.0, 888300.0, 1018500.0, 474600.0, 512400.0, 472500.0, 512400.0, 420000.0, 455700.0, 405300.0, 470400.0, 590100.0, 497700.0, 525000.0, 489300.0, 602700.0, 451500.0, 483000.0, 560700.0, 455700.0, 577500.0, 632100.0, 940800.0, 789600.0, 663600.0, 980700.0, 661500.0, 510300.0, 665700.0, 875700.0, 1014300.0, 609000.0, 504000.0, 527100.0, 661500.0, 497700.0, 489300.0, 462000.0, 422100.0, 466200.0, 497700.0, 369600.0, 388500.0, 510300.0, 430500.0, 514500.0, 550200.0, 512400.0, 520800.0, 621600.0, 898800.0, 459900.0, 438900.0, 924000.0, 756000.0, 632100.0, 709800.0, 905100.0, 1024800.0, 651000.0, 766500.0, 478800.0, 644700.0, 913500.0, 434700.0, 443100.0, 529200.0, 512400.0, 739200.0, 680400.0, 672000.0, 697200.0, 695100.0, 611100.0, 737100.0, 953400.0, 743400.0, 966000.0, 676200.0, 462000.0, 422100.0, 487200.0, 468300.0, 520800.0, 598500.0, 783300.0, 585900.0, 501900.0, 455700.0, 600600.0, 569100.0, 426300.0, 472500.0, 609000.0, 520800.0, 462000.0, 554400.0, 695100.0, 758100.0, 596400.0, 701400.0, 592200.0, 478800.0, 426300.0, 338100.0, 464100.0, 407400.0, 453600.0, 499800.0, 340200.0, 373800.0, 415800.0, 485100.0, 441000.0, 499800.0, 485100.0, 428400.0, 388500.0, 525000.0, 516600.0, 483000.0, 466200.0, 405300.0, 474600.0, 415800.0, 359100.0, 407400.0, 466200.0, 434700.0, 443100.0, 409500.0, 388500.0, 432600.0, 399000.0, 392700.0, 686700.0, 346500.0, 501900.0, 655200.0, 367500.0, 361200.0, 485100.0, 514500.0, 558600.0, 480900.0, 506100.0, 390600.0, 632100.0, 382200.0, 432600.0, 373800.0, 455700.0, 476700.0, 474600.0, 525000.0, 417900.0, 436800.0, 352800.0, 577500.0, 459900.0, 485100.0, 289800.0, 289800.0, 315000.0, 291900.0, 279300.0, 275100.0, 214200.0, 218400.0, 228900.0, 237300.0, 258300.0, 184800.0, 151200.0, 220500.0, 155400.0, 214200.0, 241500.0, 317100.0, 487200.0, 203700.0, 289800.0, 266700.0, 275100.0, 262500.0, 178500.0, 105000.0, 132300.0, 117600.0, 151200.0, 254100.0, 174300.0, 178500.0, 105000.0, 249900.0, 585900.0, 361200.0, 577500.0, 315000.0, 361200.0, 375900.0, 342300.0, 147000.0, 151200.0, 157500.0, 218400.0, 184800.0, 176400.0, 350700.0, 298200.0, 436800.0, 281400.0, 245700.0, 174300.0, 214200.0, 228900.0, 231000.0, 199500.0, 304500.0, 296100.0, 338100.0, 300300.0, 245700.0, 281400.0, 201600.0, 182700.0, 176400.0, 268800.0, 220500.0, 359100.0, 386400.0, 323400.0, 226800.0, 247800.0, 312900.0, 264600.0, 296100.0, 273000.0, 281400.0, 319200.0, 338100.0, 373800.0, 312900.0, 296100.0, 266700.0, 283500.0, 312900.0, 420000.0, 344400.0, 371700.0, 409500.0, 424200.0, 449400.0, 417900.0, 399000.0, 401100.0, 401100.0, 422100.0, 417900.0, 411600.0, 487200.0, 625800.0, 289800.0, 279300.0, 350700.0, 252000.0, 306600.0, 449400.0, 483000.0, 497700.0, 525000.0, 457800.0, 432600.0, 445200.0, 401100.0, 432600.0, 319200.0, 147000.0, 170100.0, 285600.0, 422100.0, 457800.0, 514500.0, 485100.0, 413700.0, 384300.0, 445200.0, 367500.0, 352800.0, 470400.0, 432600.0, 501900.0, 462000.0, 249900.0], \"yaxis\": \"y3\"}],\n",
              "                        {\"annotations\": [{\"font\": {\"size\": 16}, \"showarrow\": false, \"text\": \"Price and Average number of rooms\", \"x\": 0.14444444444444446, \"xanchor\": \"center\", \"xref\": \"paper\", \"y\": 1.0, \"yanchor\": \"bottom\", \"yref\": \"paper\"}, {\"font\": {\"size\": 16}, \"showarrow\": false, \"text\": \"Price Vs % of low class Homeowners\", \"x\": 0.5, \"xanchor\": \"center\", \"xref\": \"paper\", \"y\": 1.0, \"yanchor\": \"bottom\", \"yref\": \"paper\"}, {\"font\": {\"size\": 16}, \"showarrow\": false, \"text\": \"Price Vs Ratio of Students to Teachers\", \"x\": 0.8555555555555556, \"xanchor\": \"center\", \"xref\": \"paper\", \"y\": 1.0, \"yanchor\": \"bottom\", \"yref\": \"paper\"}], \"template\": {\"data\": {\"bar\": [{\"error_x\": {\"color\": \"#2a3f5f\"}, \"error_y\": {\"color\": \"#2a3f5f\"}, \"marker\": {\"line\": {\"color\": \"#E5ECF6\", \"width\": 0.5}}, \"type\": \"bar\"}], \"barpolar\": [{\"marker\": {\"line\": {\"color\": \"#E5ECF6\", \"width\": 0.5}}, \"type\": \"barpolar\"}], \"carpet\": [{\"aaxis\": {\"endlinecolor\": \"#2a3f5f\", \"gridcolor\": \"white\", \"linecolor\": \"white\", \"minorgridcolor\": \"white\", \"startlinecolor\": \"#2a3f5f\"}, \"baxis\": {\"endlinecolor\": \"#2a3f5f\", \"gridcolor\": \"white\", \"linecolor\": \"white\", \"minorgridcolor\": \"white\", \"startlinecolor\": \"#2a3f5f\"}, \"type\": \"carpet\"}], \"choropleth\": [{\"colorbar\": {\"outlinewidth\": 0, \"ticks\": \"\"}, \"type\": \"choropleth\"}], \"contour\": [{\"colorbar\": {\"outlinewidth\": 0, \"ticks\": \"\"}, \"colorscale\": [[0.0, \"#0d0887\"], [0.1111111111111111, \"#46039f\"], [0.2222222222222222, \"#7201a8\"], [0.3333333333333333, \"#9c179e\"], [0.4444444444444444, \"#bd3786\"], [0.5555555555555556, \"#d8576b\"], [0.6666666666666666, \"#ed7953\"], [0.7777777777777778, \"#fb9f3a\"], [0.8888888888888888, \"#fdca26\"], [1.0, \"#f0f921\"]], \"type\": \"contour\"}], \"contourcarpet\": [{\"colorbar\": {\"outlinewidth\": 0, \"ticks\": \"\"}, \"type\": \"contourcarpet\"}], \"heatmap\": [{\"colorbar\": {\"outlinewidth\": 0, \"ticks\": \"\"}, \"colorscale\": [[0.0, \"#0d0887\"], [0.1111111111111111, \"#46039f\"], [0.2222222222222222, \"#7201a8\"], [0.3333333333333333, \"#9c179e\"], [0.4444444444444444, \"#bd3786\"], [0.5555555555555556, \"#d8576b\"], [0.6666666666666666, \"#ed7953\"], [0.7777777777777778, \"#fb9f3a\"], [0.8888888888888888, \"#fdca26\"], [1.0, \"#f0f921\"]], \"type\": \"heatmap\"}], \"heatmapgl\": [{\"colorbar\": {\"outlinewidth\": 0, \"ticks\": \"\"}, \"colorscale\": [[0.0, \"#0d0887\"], [0.1111111111111111, \"#46039f\"], [0.2222222222222222, \"#7201a8\"], [0.3333333333333333, \"#9c179e\"], [0.4444444444444444, \"#bd3786\"], [0.5555555555555556, \"#d8576b\"], [0.6666666666666666, \"#ed7953\"], [0.7777777777777778, \"#fb9f3a\"], [0.8888888888888888, \"#fdca26\"], [1.0, \"#f0f921\"]], \"type\": \"heatmapgl\"}], \"histogram\": [{\"marker\": {\"colorbar\": {\"outlinewidth\": 0, \"ticks\": \"\"}}, \"type\": \"histogram\"}], \"histogram2d\": [{\"colorbar\": {\"outlinewidth\": 0, \"ticks\": \"\"}, \"colorscale\": [[0.0, \"#0d0887\"], [0.1111111111111111, \"#46039f\"], [0.2222222222222222, \"#7201a8\"], [0.3333333333333333, \"#9c179e\"], [0.4444444444444444, \"#bd3786\"], [0.5555555555555556, \"#d8576b\"], [0.6666666666666666, \"#ed7953\"], [0.7777777777777778, \"#fb9f3a\"], [0.8888888888888888, \"#fdca26\"], [1.0, \"#f0f921\"]], \"type\": \"histogram2d\"}], \"histogram2dcontour\": [{\"colorbar\": {\"outlinewidth\": 0, \"ticks\": \"\"}, \"colorscale\": [[0.0, \"#0d0887\"], [0.1111111111111111, \"#46039f\"], [0.2222222222222222, \"#7201a8\"], [0.3333333333333333, \"#9c179e\"], [0.4444444444444444, \"#bd3786\"], [0.5555555555555556, \"#d8576b\"], [0.6666666666666666, \"#ed7953\"], [0.7777777777777778, \"#fb9f3a\"], [0.8888888888888888, \"#fdca26\"], [1.0, \"#f0f921\"]], \"type\": \"histogram2dcontour\"}], \"mesh3d\": [{\"colorbar\": {\"outlinewidth\": 0, \"ticks\": \"\"}, \"type\": \"mesh3d\"}], \"parcoords\": [{\"line\": {\"colorbar\": {\"outlinewidth\": 0, \"ticks\": \"\"}}, \"type\": \"parcoords\"}], \"pie\": [{\"automargin\": true, \"type\": \"pie\"}], \"scatter\": [{\"marker\": {\"colorbar\": {\"outlinewidth\": 0, \"ticks\": \"\"}}, \"type\": \"scatter\"}], \"scatter3d\": [{\"line\": {\"colorbar\": {\"outlinewidth\": 0, \"ticks\": \"\"}}, \"marker\": {\"colorbar\": {\"outlinewidth\": 0, \"ticks\": \"\"}}, \"type\": \"scatter3d\"}], \"scattercarpet\": [{\"marker\": {\"colorbar\": {\"outlinewidth\": 0, \"ticks\": \"\"}}, \"type\": \"scattercarpet\"}], \"scattergeo\": [{\"marker\": {\"colorbar\": {\"outlinewidth\": 0, \"ticks\": \"\"}}, \"type\": \"scattergeo\"}], \"scattergl\": [{\"marker\": {\"colorbar\": {\"outlinewidth\": 0, \"ticks\": \"\"}}, \"type\": \"scattergl\"}], \"scattermapbox\": [{\"marker\": {\"colorbar\": {\"outlinewidth\": 0, \"ticks\": \"\"}}, \"type\": \"scattermapbox\"}], \"scatterpolar\": [{\"marker\": {\"colorbar\": {\"outlinewidth\": 0, \"ticks\": \"\"}}, \"type\": \"scatterpolar\"}], \"scatterpolargl\": [{\"marker\": {\"colorbar\": {\"outlinewidth\": 0, \"ticks\": \"\"}}, \"type\": \"scatterpolargl\"}], \"scatterternary\": [{\"marker\": {\"colorbar\": {\"outlinewidth\": 0, \"ticks\": \"\"}}, \"type\": \"scatterternary\"}], \"surface\": [{\"colorbar\": {\"outlinewidth\": 0, \"ticks\": \"\"}, \"colorscale\": [[0.0, \"#0d0887\"], [0.1111111111111111, \"#46039f\"], [0.2222222222222222, \"#7201a8\"], [0.3333333333333333, \"#9c179e\"], [0.4444444444444444, \"#bd3786\"], [0.5555555555555556, \"#d8576b\"], [0.6666666666666666, \"#ed7953\"], [0.7777777777777778, \"#fb9f3a\"], [0.8888888888888888, \"#fdca26\"], [1.0, \"#f0f921\"]], \"type\": \"surface\"}], \"table\": [{\"cells\": {\"fill\": {\"color\": \"#EBF0F8\"}, \"line\": {\"color\": \"white\"}}, \"header\": {\"fill\": {\"color\": \"#C8D4E3\"}, \"line\": {\"color\": \"white\"}}, \"type\": \"table\"}]}, \"layout\": {\"annotationdefaults\": {\"arrowcolor\": \"#2a3f5f\", \"arrowhead\": 0, \"arrowwidth\": 1}, \"coloraxis\": {\"colorbar\": {\"outlinewidth\": 0, \"ticks\": \"\"}}, \"colorscale\": {\"diverging\": [[0, \"#8e0152\"], [0.1, \"#c51b7d\"], [0.2, \"#de77ae\"], [0.3, \"#f1b6da\"], [0.4, \"#fde0ef\"], [0.5, \"#f7f7f7\"], [0.6, \"#e6f5d0\"], [0.7, \"#b8e186\"], [0.8, \"#7fbc41\"], [0.9, \"#4d9221\"], [1, \"#276419\"]], \"sequential\": [[0.0, \"#0d0887\"], [0.1111111111111111, \"#46039f\"], [0.2222222222222222, \"#7201a8\"], [0.3333333333333333, \"#9c179e\"], [0.4444444444444444, \"#bd3786\"], [0.5555555555555556, \"#d8576b\"], [0.6666666666666666, \"#ed7953\"], [0.7777777777777778, \"#fb9f3a\"], [0.8888888888888888, \"#fdca26\"], [1.0, \"#f0f921\"]], \"sequentialminus\": [[0.0, \"#0d0887\"], [0.1111111111111111, \"#46039f\"], [0.2222222222222222, \"#7201a8\"], [0.3333333333333333, \"#9c179e\"], [0.4444444444444444, \"#bd3786\"], [0.5555555555555556, \"#d8576b\"], [0.6666666666666666, \"#ed7953\"], [0.7777777777777778, \"#fb9f3a\"], [0.8888888888888888, \"#fdca26\"], [1.0, \"#f0f921\"]]}, \"colorway\": [\"#636efa\", \"#EF553B\", \"#00cc96\", \"#ab63fa\", \"#FFA15A\", \"#19d3f3\", \"#FF6692\", \"#B6E880\", \"#FF97FF\", \"#FECB52\"], \"font\": {\"color\": \"#2a3f5f\"}, \"geo\": {\"bgcolor\": \"white\", \"lakecolor\": \"white\", \"landcolor\": \"#E5ECF6\", \"showlakes\": true, \"showland\": true, \"subunitcolor\": \"white\"}, \"hoverlabel\": {\"align\": \"left\"}, \"hovermode\": \"closest\", \"mapbox\": {\"style\": \"light\"}, \"paper_bgcolor\": \"white\", \"plot_bgcolor\": \"#E5ECF6\", \"polar\": {\"angularaxis\": {\"gridcolor\": \"white\", \"linecolor\": \"white\", \"ticks\": \"\"}, \"bgcolor\": \"#E5ECF6\", \"radialaxis\": {\"gridcolor\": \"white\", \"linecolor\": \"white\", \"ticks\": \"\"}}, \"scene\": {\"xaxis\": {\"backgroundcolor\": \"#E5ECF6\", \"gridcolor\": \"white\", \"gridwidth\": 2, \"linecolor\": \"white\", \"showbackground\": true, \"ticks\": \"\", \"zerolinecolor\": \"white\"}, \"yaxis\": {\"backgroundcolor\": \"#E5ECF6\", \"gridcolor\": \"white\", \"gridwidth\": 2, \"linecolor\": \"white\", \"showbackground\": true, \"ticks\": \"\", \"zerolinecolor\": \"white\"}, \"zaxis\": {\"backgroundcolor\": \"#E5ECF6\", \"gridcolor\": \"white\", \"gridwidth\": 2, \"linecolor\": \"white\", \"showbackground\": true, \"ticks\": \"\", \"zerolinecolor\": \"white\"}}, \"shapedefaults\": {\"line\": {\"color\": \"#2a3f5f\"}}, \"ternary\": {\"aaxis\": {\"gridcolor\": \"white\", \"linecolor\": \"white\", \"ticks\": \"\"}, \"baxis\": {\"gridcolor\": \"white\", \"linecolor\": \"white\", \"ticks\": \"\"}, \"bgcolor\": \"#E5ECF6\", \"caxis\": {\"gridcolor\": \"white\", \"linecolor\": \"white\", \"ticks\": \"\"}}, \"title\": {\"x\": 0.05}, \"xaxis\": {\"automargin\": true, \"gridcolor\": \"white\", \"linecolor\": \"white\", \"ticks\": \"\", \"title\": {\"standoff\": 15}, \"zerolinecolor\": \"white\", \"zerolinewidth\": 2}, \"yaxis\": {\"automargin\": true, \"gridcolor\": \"white\", \"linecolor\": \"white\", \"ticks\": \"\", \"title\": {\"standoff\": 15}, \"zerolinecolor\": \"white\", \"zerolinewidth\": 2}}}, \"title\": {\"text\": \"Plot of feature Vs price\", \"x\": 0.5}, \"xaxis\": {\"anchor\": \"y\", \"domain\": [0.0, 0.2888888888888889], \"title\": {\"text\": \"RM\"}}, \"xaxis2\": {\"anchor\": \"y2\", \"domain\": [0.35555555555555557, 0.6444444444444445], \"title\": {\"text\": \"LSTAT\"}}, \"xaxis3\": {\"anchor\": \"y3\", \"domain\": [0.7111111111111111, 1.0], \"title\": {\"text\": \"PTRATIO\"}}, \"yaxis\": {\"anchor\": \"x\", \"domain\": [0.0, 1.0], \"title\": {\"text\": \"Prices\"}}, \"yaxis2\": {\"anchor\": \"x2\", \"domain\": [0.0, 1.0], \"title\": {\"text\": \"Prices\"}}, \"yaxis3\": {\"anchor\": \"x3\", \"domain\": [0.0, 1.0], \"title\": {\"text\": \"Prices\"}}},\n",
              "                        {\"responsive\": true}\n",
              "                    ).then(function(){\n",
              "                            \n",
              "var gd = document.getElementById('69c6cf91-be91-410c-bd50-a0b98b017295');\n",
              "var x = new MutationObserver(function (mutations, observer) {{\n",
              "        var display = window.getComputedStyle(gd).display;\n",
              "        if (!display || display === 'none') {{\n",
              "            console.log([gd, 'removed!']);\n",
              "            Plotly.purge(gd);\n",
              "            observer.disconnect();\n",
              "        }}\n",
              "}});\n",
              "\n",
              "// Listen for the removal of the full notebook cells\n",
              "var notebookContainer = gd.closest('#notebook-container');\n",
              "if (notebookContainer) {{\n",
              "    x.observe(notebookContainer, {childList: true});\n",
              "}}\n",
              "\n",
              "// Listen for the clearing of the current output cell\n",
              "var outputEl = gd.closest('.output');\n",
              "if (outputEl) {{\n",
              "    x.observe(outputEl, {childList: true});\n",
              "}}\n",
              "\n",
              "                        })\n",
              "                };\n",
              "                \n",
              "            </script>\n",
              "        </div>\n",
              "</body>\n",
              "</html>"
            ]
          },
          "metadata": {
            "tags": []
          }
        }
      ]
    },
    {
      "cell_type": "markdown",
      "metadata": {
        "id": "h0BS-Bklfg0o",
        "colab_type": "text"
      },
      "source": [
        "* RM is the average number of rooms among homes in neighborhood\n",
        "* LSTAT is the % of homeowners in the neighborhood considered 'lower class' (working poor)\n",
        "* PTRATIO is the ratio of students to teachers in primary and secondary schools in the neighborhood."
      ]
    },
    {
      "cell_type": "markdown",
      "metadata": {
        "id": "xG6rGQXSgRt4",
        "colab_type": "text"
      },
      "source": [
        "**Intuitions from scatter plots**\n",
        "* **RM**\n",
        "  * For a higher RM, one would expect to observe a higher MEDV.\n",
        "  * This is because more rooms would imply more space, thereby costing more, **taking all other factors constant**.\n",
        "* **LSTAT**\n",
        "  * For a higher LSTAT, one would expect to observe a lower MEDV.\n",
        "  * The social milieux in an area dominated by 'lower class' citizen may not be conduicive for young children. It may also be relatively unsafe compared to an area dominated by 'upper class' citizens. Hence an area with 'lower class' citizens would lower demand, hence lower prices.\n",
        "* **PTRATIO**\n",
        "  * For a higher PTRATIO, one would expect to observe a lower MEDV.\n",
        "  *This is because there would be a lower teacher-to-student ratio resulting in less attention dedicated to each student that may impair their performance in school. Typically this is the scenario in public/state schools compared to private schools. And the prices of houses around public schools are generally lower than those around private schools. Henc one would expect a lower price given a high student-to-teacher ratio due to a lower demand for houses in such areas."
      ]
    },
    {
      "cell_type": "markdown",
      "metadata": {
        "id": "mLTbRjLLjTfh",
        "colab_type": "text"
      },
      "source": [
        "**<h1>Developing a Model**"
      ]
    },
    {
      "cell_type": "markdown",
      "metadata": {
        "id": "Lm5Qm5ATjdvX",
        "colab_type": "text"
      },
      "source": [
        "**<h2> Implementation: Define a Perfomance Metric**"
      ]
    },
    {
      "cell_type": "markdown",
      "metadata": {
        "id": "f0WEjOOdjvJ-",
        "colab_type": "text"
      },
      "source": [
        "* To quantify the performance of model, we use $R^2$, coefficient of determination.\n",
        "* Values of $R^2$ range from 0 to 1.\n",
        "* A model with $R^2$ of 0 is no better than a model that always predicts the mean of the target variable i.e. $R^2$ of mean model is 0.\n",
        "* $R^2$ = 1, indicates model perfectly predicts the target variable.\n",
        "* Model that gives -ve $R^2$ is arbitrarily worse than $R^2$ of mean model."
      ]
    },
    {
      "cell_type": "markdown",
      "metadata": {
        "id": "8mFfEqh3XZvP",
        "colab_type": "text"
      },
      "source": [
        "**r2_score - $R^2$**\n",
        "> $R^2(y, \\hat{y}) = 1 - \\frac{\\sum_{i=1}^{n} (y_i - \\hat{y}_i)^2}{\\sum_{i=1}^{n} (y_i - \\bar{y})^2}$ <br><br>\n",
        "where $\\bar{y} = \\frac{1}{n} \\sum_{i=1}^{n} y_i$ and $\\sum_{i=1}^{n} (y_i - \\hat{y}_i)^2 = \\sum_{i=1}^{n} \\epsilon_i^2$\n",
        "\n",
        "* It represents the proportion of variance of y that has been eplained by the independent variables in the model.\n",
        "* It is a measure of how well unseen samples are likely to be predicted by the model, through the proportion of explained variance.\n",
        "* In other words model should has error less than the basic mean model, which how we get $R^2 > 0$\n",
        "* $R^2$ of 0.40 means that 40% of variance in y is predictable from X."
      ]
    },
    {
      "cell_type": "markdown",
      "metadata": {
        "id": "MiTeRfXkk7aw",
        "colab_type": "text"
      },
      "source": [
        "**Function for Performance metric**"
      ]
    },
    {
      "cell_type": "code",
      "metadata": {
        "id": "yh8ePZa01kP0",
        "colab_type": "code",
        "colab": {}
      },
      "source": [
        "from sklearn.metrics import r2_score\n",
        "\n",
        "def performance_metric(y_true, y_predict):\n",
        "  score = r2_score(y_true, y_predict)\n",
        "  return score"
      ],
      "execution_count": 0,
      "outputs": []
    },
    {
      "cell_type": "markdown",
      "metadata": {
        "id": "wCv6SS5T4LHS",
        "colab_type": "text"
      },
      "source": [
        "**<h2>Implementation: Shuffle and Split Data**"
      ]
    },
    {
      "cell_type": "markdown",
      "metadata": {
        "id": "5RCAefTC4U-f",
        "colab_type": "text"
      },
      "source": [
        "* We use `train_test_split` from `sklearn.cross_validation` to shuffle and split the features and prices data into training and testing sets.\n",
        "* Shuffling is to remove any bias in the ordering of the dataset.\n",
        "* Set the `random_state` to some value to seed or ensure the results are consistent."
      ]
    },
    {
      "cell_type": "code",
      "metadata": {
        "id": "W8FWgP47lOAk",
        "colab_type": "code",
        "outputId": "06f7cd7c-a73a-44a7-edd1-b06f2a2b8de9",
        "executionInfo": {
          "status": "ok",
          "timestamp": 1589393735091,
          "user_tz": -330,
          "elapsed": 11953,
          "user": {
            "displayName": "ml learning",
            "photoUrl": "",
            "userId": "11852164450280049527"
          }
        },
        "colab": {
          "base_uri": "https://localhost:8080/",
          "height": 34
        }
      },
      "source": [
        "from sklearn.model_selection import train_test_split\n",
        "\n",
        "X_train, X_test, y_train, y_test = train_test_split(features, prices, test_size=0.2, random_state=0)\n",
        "\n",
        "print('Training and testing split was successful.')"
      ],
      "execution_count": 0,
      "outputs": [
        {
          "output_type": "stream",
          "text": [
            "Training and testing split was successful.\n"
          ],
          "name": "stdout"
        }
      ]
    },
    {
      "cell_type": "markdown",
      "metadata": {
        "id": "TcQYAx6w6x_n",
        "colab_type": "text"
      },
      "source": [
        "**<h1>Analyzing Model Performance**"
      ]
    },
    {
      "cell_type": "markdown",
      "metadata": {
        "id": "OjAAY9g8U0oC",
        "colab_type": "text"
      },
      "source": [
        "* Now we'll look at models' learning and testing performances on various subsets of training data.\n",
        "* Additionally, we'll investigate one particular algorithm with an increasing 'max_depth' parameter on full training set to observe how **model complexity** affects performance.\n",
        "* Graphing models' performance based on varying criteria can be useful in the analysis process, such as visualizing behavior that may not have been clear from the results alone."
      ]
    },
    {
      "cell_type": "markdown",
      "metadata": {
        "id": "nc8XITvKV5rO",
        "colab_type": "text"
      },
      "source": [
        "**<h2>Learning Curves**"
      ]
    },
    {
      "cell_type": "markdown",
      "metadata": {
        "id": "C0eLpjVhAaLR",
        "colab_type": "text"
      },
      "source": [
        "* Learning Curve shows the relationship of the training score Vs cross validated test score with a varying number of training.\n",
        "* These curve shows:\n",
        "  * How much the estimator benefits from more data. (eg: do we have 'enough data')\n",
        "  * If the estimator is more sensitive to 'error due to variance(test)' vs 'error due to bias(training)'.\n",
        "* If the training and CV scores **converge**  together as more data is added (shown in first two figures), then model will **not benefit** from more data.(no further data is needed).\n",
        "* If the training score is much greater than the validation score(shown in fig 3 & 4) then model needs more training examples in order to generalize more effectively.\n",
        "* The curves are plotted with the mean scores, however variablity during CV shown with the shaded areas that represent a **standard deviation** above and below the mean for all cross-validations.\n",
        "* If the model suffers from error due to **bias**, then there'll be more variability around the **training score curve**.\n",
        "* If the model suffers from error due to **variance**, then there'll be more variability around the **cross validated score curve**.\n",
        "* A cross validation generator splits the whole dataset K times in training and test data.(K-fold cv, below we used 10 fold)\n",
        "* Subsets of training set with varying sizes will be used to train the estimator and a score for each training subset size and test set will be computed.\n",
        "* Later, the scores will be averaged over all K runs for each training subset size."
      ]
    },
    {
      "cell_type": "code",
      "metadata": {
        "id": "Gsp8V48E5nkL",
        "colab_type": "code",
        "outputId": "9fc9c363-fadd-440d-ac96-be9a0e7b6fca",
        "executionInfo": {
          "status": "ok",
          "timestamp": 1589393735092,
          "user_tz": -330,
          "elapsed": 11934,
          "user": {
            "displayName": "ml learning",
            "photoUrl": "",
            "userId": "11852164450280049527"
          }
        },
        "colab": {
          "base_uri": "https://localhost:8080/",
          "height": 105
        }
      },
      "source": [
        "from yellowbrick.model_selection import LearningCurve\n",
        "from sklearn.tree import DecisionTreeRegressor\n",
        "from sklearn.model_selection import ShuffleSplit\n",
        "\n",
        "import warnings\n",
        "warnings.filterwarnings(\"ignore\", category = FutureWarning, module = 'sklearn')"
      ],
      "execution_count": 0,
      "outputs": [
        {
          "output_type": "stream",
          "text": [
            "/usr/local/lib/python3.6/dist-packages/sklearn/utils/deprecation.py:144: FutureWarning:\n",
            "\n",
            "The sklearn.metrics.classification module is  deprecated in version 0.22 and will be removed in version 0.24. The corresponding classes / functions should instead be imported from sklearn.metrics. Anything that cannot be imported from sklearn.metrics is now part of the private API.\n",
            "\n"
          ],
          "name": "stderr"
        }
      ]
    },
    {
      "cell_type": "code",
      "metadata": {
        "id": "uL6GMkCMeuYP",
        "colab_type": "code",
        "outputId": "df1ab72b-f998-4b02-9b92-02cdfe8a4085",
        "executionInfo": {
          "status": "ok",
          "timestamp": 1589393737788,
          "user_tz": -330,
          "elapsed": 14583,
          "user": {
            "displayName": "ml learning",
            "photoUrl": "",
            "userId": "11852164450280049527"
          }
        },
        "colab": {
          "base_uri": "https://localhost:8080/",
          "height": 554
        }
      },
      "source": [
        "for k,depth in enumerate([1,3,6,10]):\n",
        "  fig = plt.gcf()\n",
        "  fig.set_size_inches(20,16)\n",
        "  ax = plt.subplot(2,2,k+1)\n",
        "\n",
        "  model = DecisionTreeRegressor(max_depth=depth)\n",
        "\n",
        "  visualizer = LearningCurve(model, scoring='r2', cv=ShuffleSplit(n_splits = 10, test_size = 0.2, random_state = 0),\n",
        "                           ax = ax)\n",
        "  visualizer.fit(features, prices)\n",
        "  visualizer.finalize()\n",
        "\n",
        "  visualizer.set_title(f'Learning curve with depth : {depth}')"
      ],
      "execution_count": 0,
      "outputs": [
        {
          "output_type": "display_data",
          "data": {
            "image/png": "[encoded data removed]",
            "text/plain": [
              "<Figure size 1440x1152 with 4 Axes>"
            ]
          },
          "metadata": {
            "tags": []
          }
        }
      ]
    },
    {
      "cell_type": "markdown",
      "metadata": {
        "id": "fESXCBhFBaNY",
        "colab_type": "text"
      },
      "source": [
        "**Intuitions**\n",
        "\n",
        "1. Max_depth = 1(High Bias Scenario)\n",
        "  * We can see the testing score (green line) increases slightly with the number of observations\n",
        "  * However, the testing score only increases to approximately 0.425 which low. This indicates how the model does not generalize well for new, unseen, data.\n",
        "  * Moreover, the training score (blue line) decreases with the number of observations. Also, the trainings score decreases to a very low score of approximatey 0.45 (the fall should be minimum). This indicates how the model does not seem to fit the data well.\n",
        "  * Thus, we can say this model is facing a high bias problem. Consequently, having more training points would not benefit the model as the model is underfitting the dataset. Instead, **one should increase the model complexity to better fit the dataset**.\n",
        "  * Moreover the testing score has reached almost flat line suggesting the model may not improve from adding more training points.\n",
        "\n",
        "2. Max_depth = 3 (Ideal Scenario)\n",
        "  * Testing score (green line) increases with training points\n",
        "    * Reaches ~ 0.8\n",
        "    * High score\n",
        "    * Generalize well\n",
        "  * Training score (blue line) decreases sligtly with training points\n",
        "    * Reaches ~ 0.8\n",
        "    * High score\n",
        "    * Fit dataset well\n",
        "  * There seems to be no high bias or high variance problem\n",
        "    * Model fits and generalizes well\n",
        "    * Ideal\n",
        "    * More training points should help it become as even more ideal model.\n",
        "3. Max_depth = 6 (Slightly High Variance Scenario)\n",
        "  * Testing score (green line) increases with training points\n",
        "    * Reaches ~ 0.78\n",
        "    * Not so high score\n",
        "    * Does not generalize well, as the distance b/w two curves is more.\n",
        "  * Training score (blue line) decreases slightly with training points\n",
        "    * At ~ 0.92\n",
        "    * High score\n",
        "    * Overfitting dataset as test score is far less compared to train score.\n",
        "  * There seems to be high variance problem (test score is not as close to train)\n",
        "    * Overfitting\n",
        "    * More training points might help as curves are not converging.\n",
        "    * This is getting close to ideal scenario\n",
        "4. Mac_depth = 10 (High variance scenario)\n",
        "  * Testing score (green line) increases with training points\n",
        "    * Reaches ~ 0.7\n",
        "    * Not so high score\n",
        "    * Does not generalize well\n",
        "  * Training score (blue line) barely decreases with training points\n",
        "    * At ~ 1.0 and becomes as low as 0.98\n",
        "    * Almost perfect score\n",
        "    * Overfitting dataset\n",
        "  * There seems to be high variance problem\n",
        "    * Overfitting"
      ]
    },
    {
      "cell_type": "markdown",
      "metadata": {
        "id": "sMgch1IKUmBl",
        "colab_type": "text"
      },
      "source": [
        "**<h2>Validation Curve**"
      ]
    },
    {
      "cell_type": "markdown",
      "metadata": {
        "id": "jqosi_Lkdx20",
        "colab_type": "text"
      },
      "source": [
        "* Model validation is used to determine 'how effective an estimator is on data that it has been trained on' as well as 'how generalizable it is to new input'.\n",
        "* To measure a model's performance we first split the dataset into training and test splits.\n",
        "* Then fitting the model on that training data and scoring it on the reserved test data.\n",
        "* In order to maximize the score, need to the optimum hyperparameter.\n",
        "* Most models have multiple hyperparameters and use grid search to choose best one.\n",
        "* However, it is useful to plot the influence of a single hyperparameter on the training and test data to determine if th estimator is **underfitting** or **overfitting** for some hyperparameter values.\n",
        "* Validation curve is like error curve which we plot for each hyper parameter value on training and testing data set.\n",
        "* Note that if we optimize the hyperparameters based on validation score, the validation score is biased (trying to achive the perfectness - overfitting) and not a good estimate of the generalization any longer.\n",
        "* To get a proper estimate of the generalization we have to compute the score on another test set."
      ]
    },
    {
      "cell_type": "code",
      "metadata": {
        "id": "JNccYDpaSD-8",
        "colab_type": "code",
        "colab": {}
      },
      "source": [
        "from yellowbrick.model_selection import ValidationCurve"
      ],
      "execution_count": 0,
      "outputs": []
    },
    {
      "cell_type": "code",
      "metadata": {
        "id": "F80n_r9cSH9d",
        "colab_type": "code",
        "outputId": "2f03f7d3-a99c-4d2e-daff-b80f27ea8473",
        "executionInfo": {
          "status": "ok",
          "timestamp": 1589393737792,
          "user_tz": -330,
          "elapsed": 14562,
          "user": {
            "displayName": "ml learning",
            "photoUrl": "",
            "userId": "11852164450280049527"
          }
        },
        "colab": {
          "base_uri": "https://localhost:8080/",
          "height": 376
        }
      },
      "source": [
        "model = DecisionTreeRegressor()\n",
        "visualizer = ValidationCurve(model, param_name='max_depth',\n",
        "                             param_range=np.arange(1,11),\n",
        "                             cv = ShuffleSplit(n_splits = 10, test_size = 0.2, random_state = 0),\n",
        "                             scoring='r2')\n",
        "visualizer.fit(features, prices)\n",
        "visualizer.finalize()"
      ],
      "execution_count": 0,
      "outputs": [
        {
          "output_type": "display_data",
          "data": {
            "image/png": "[encoded data removed]",
            "text/plain": [
              "<Figure size 576x396 with 1 Axes>"
            ]
          },
          "metadata": {
            "tags": []
          }
        }
      ]
    },
    {
      "cell_type": "markdown",
      "metadata": {
        "id": "RF0KZh1wMUnu",
        "colab_type": "text"
      },
      "source": [
        "**<h2> Bias-Variance Tradeoff**"
      ]
    },
    {
      "cell_type": "markdown",
      "metadata": {
        "id": "d1MHTwxZMdtX",
        "colab_type": "text"
      },
      "source": [
        "* It is easy to identify whether the model is suffering from a **high bias** or **high variance**.\n",
        "  * High variance models have a gap between the training and validation scores.\n",
        "  * This is because it is able to fit the model well but unable to generalize well resulting in high training score but low validation score.\n",
        "  * High bias models has small or no hap between the training and validation scores.\n",
        "  * This is because it is unable to fit the model well and unable to generalize well resulting in both scores converging to a similar low score\n",
        "\n",
        "* Maximum depth of 1 : High Bias\n",
        "  * Both training and testing scores are low.\n",
        "  * There is barely a gap between the training and testing scores.\n",
        "  * This indicates the model is not fitting the dataset well and not generalizing well hence the model is suffering from high bias.\n",
        "\n",
        "* Maximum depth of 10: High Variance\n",
        "  * Training score is high. Testing score is low.\n",
        "  * There is substantial gap between the training and testing scores.\n",
        "  * This indicates the model is fitting the dataset well but not generalizing well hence the model is suffering from high variance."
      ]
    },
    {
      "cell_type": "markdown",
      "metadata": {
        "id": "0S1q3DD-PNlN",
        "colab_type": "text"
      },
      "source": [
        "**Best guess optimal model is at maximum deph 4**"
      ]
    },
    {
      "cell_type": "markdown",
      "metadata": {
        "id": "sS-1bTnGPTjq",
        "colab_type": "text"
      },
      "source": [
        "**<h1>Evaluating Model Performance**"
      ]
    },
    {
      "cell_type": "markdown",
      "metadata": {
        "id": "wDhC_ocGRwjx",
        "colab_type": "text"
      },
      "source": [
        "**<h2> Grid Search**"
      ]
    },
    {
      "cell_type": "markdown",
      "metadata": {
        "id": "lnvYz-e-R0n_",
        "colab_type": "text"
      },
      "source": [
        "* Grid search allows to select the best possible model for prediction by allowing us to specify which of those parameters we want to change, their corresponding ranges and function scores to be optimised.\n",
        "* Searches each of the models iteratively and gives the combination of values for those parameters that optimize the scoring function."
      ]
    },
    {
      "cell_type": "markdown",
      "metadata": {
        "id": "PY1hinofSTLW",
        "colab_type": "text"
      },
      "source": [
        "**<h2>Cross Validation**"
      ]
    },
    {
      "cell_type": "markdown",
      "metadata": {
        "id": "eD4iYZw1Smvc",
        "colab_type": "text"
      },
      "source": [
        "**Summary**\n",
        "* Dataset is split into K - folds of equal size.\n",
        "* Each fold acts as the testing set 1 time and training set K-1 times.\n",
        "* Average testing performance is used as the estimate of out-of-sample performance.\n",
        "* Also known as cross-validated performance"
      ]
    },
    {
      "cell_type": "markdown",
      "metadata": {
        "id": "zucmyiYlS8tX",
        "colab_type": "text"
      },
      "source": [
        "**Benefits**\n",
        "* More reliable estimate of out-of-sample performance than train/test spilt\n",
        "* Reduce the variancee of a single trial of a tain/test split.\n",
        "* Hence, with the benefits of K-fold cross-validation, we're able to use the average testing accuracy as a benchmark to decide which is the most optimal set of parameters for learning algorithm.\n",
        "* If we don't use a cross-validation set and run the grid-search, we get different sets of parameters due to the fact that without CV set, the estimate out-of-sample performance would have a high variance.\n",
        "* In summary, without k-fold cross-validation the risk is higher that grid search will select hyper-parameter value combinations that perform very well on  a specific train-test-split but poorly otherwise."
      ]
    },
    {
      "cell_type": "markdown",
      "metadata": {
        "id": "W1rTME1QUIBL",
        "colab_type": "text"
      },
      "source": [
        "**Limitations**\n",
        "* It doesn't work well when data is not uniformly distributed. (eg: sorted data)"
      ]
    },
    {
      "cell_type": "markdown",
      "metadata": {
        "id": "FIX0IkxVUU2s",
        "colab_type": "text"
      },
      "source": [
        "**<h2>Implementation: Fitting a Model**"
      ]
    },
    {
      "cell_type": "code",
      "metadata": {
        "id": "jM_YT63rMUM7",
        "colab_type": "code",
        "colab": {}
      },
      "source": [
        "from sklearn.metrics import make_scorer, r2_score\n",
        "from sklearn.tree import DecisionTreeRegressor\n",
        "from sklearn.model_selection import GridSearchCV\n",
        "\n",
        "def fit_model(X, y):\n",
        "\n",
        "  cv_sets = ShuffleSplit(n_splits=10, test_size=0.2, random_state=0)\n",
        "\n",
        "  regressor = DecisionTreeRegressor(random_state=0)\n",
        "\n",
        "  params = {'max_depth' : list(range(1,11))}\n",
        "\n",
        "  #performance_metric - previously defined function\n",
        "  scorin_fnc = make_scorer(performance_metric)\n",
        "\n",
        "  grid = GridSearchCV(regressor, params, cv=cv_sets, scoring = scorin_fnc)\n",
        "  grid = grid.fit(X, y)\n",
        "\n",
        "  return grid.best_estimator_"
      ],
      "execution_count": 0,
      "outputs": []
    },
    {
      "cell_type": "markdown",
      "metadata": {
        "id": "pL0tP3dfWly7",
        "colab_type": "text"
      },
      "source": [
        "**<h2> Making predictions**"
      ]
    },
    {
      "cell_type": "code",
      "metadata": {
        "id": "H3vYVy_6WkST",
        "colab_type": "code",
        "outputId": "fb3f8208-8dbb-453f-f967-d3cf98b91f05",
        "executionInfo": {
          "status": "ok",
          "timestamp": 1589393738357,
          "user_tz": -330,
          "elapsed": 15093,
          "user": {
            "displayName": "ml learning",
            "photoUrl": "",
            "userId": "11852164450280049527"
          }
        },
        "colab": {
          "base_uri": "https://localhost:8080/",
          "height": 34
        }
      },
      "source": [
        "reg = fit_model(X_train, y_train)\n",
        "\n",
        "print('Parmeter \\'max_depth\\' is {} for the optimal model.'.format(reg.get_params()['max_depth']))"
      ],
      "execution_count": 0,
      "outputs": [
        {
          "output_type": "stream",
          "text": [
            "Parmeter 'max_depth' is 4 for the optimal model.\n"
          ],
          "name": "stdout"
        }
      ]
    },
    {
      "cell_type": "markdown",
      "metadata": {
        "id": "VbVCIJ_-YBny",
        "colab_type": "text"
      },
      "source": [
        "**<h1>Predicting the Selling Prices**"
      ]
    },
    {
      "cell_type": "code",
      "metadata": {
        "id": "P9xdKEb2XK6J",
        "colab_type": "code",
        "outputId": "e1532c76-7e2e-48f7-9110-732a1d1552e7",
        "executionInfo": {
          "status": "ok",
          "timestamp": 1589393738358,
          "user_tz": -330,
          "elapsed": 15080,
          "user": {
            "displayName": "ml learning",
            "photoUrl": "",
            "userId": "11852164450280049527"
          }
        },
        "colab": {
          "base_uri": "https://localhost:8080/",
          "height": 68
        }
      },
      "source": [
        "client_data = [[5, 17, 15], # Client 1\n",
        "               [4, 32, 22], # Client 2\n",
        "               [8, 3, 12]]  # Client 3\n",
        "\n",
        "#Show predictions\n",
        "for i, price in enumerate(reg.predict(client_data)):\n",
        "  print('Predicted selling price for Client {}\\'s home: ${:,.2f}'.format(i+1, price))"
      ],
      "execution_count": 0,
      "outputs": [
        {
          "output_type": "stream",
          "text": [
            "Predicted selling price for Client 1's home: $391,183.33\n",
            "Predicted selling price for Client 2's home: $189,123.53\n",
            "Predicted selling price for Client 3's home: $942,666.67\n"
          ],
          "name": "stdout"
        }
      ]
    },
    {
      "cell_type": "markdown",
      "metadata": {
        "id": "KHoTxkM8YzMm",
        "colab_type": "text"
      },
      "source": [
        "**Data Exploration Findings**\n",
        "\n",
        "* Minimum price : \\$105,000.0\n",
        "* Maximum price : \\$1,024,800.0\n",
        "* Mean price : \\$454,342.9447852761\n",
        "* Median price : \\$438,900.0\n",
        "* Standard deviation of price : \\$165,171.13154429477"
      ]
    },
    {
      "cell_type": "markdown",
      "metadata": {
        "id": "7GvGoxuDZeLI",
        "colab_type": "text"
      },
      "source": [
        "**<h1>Exploration:**"
      ]
    },
    {
      "cell_type": "markdown",
      "metadata": {
        "id": "FG7ntuw7alVF",
        "colab_type": "text"
      },
      "source": [
        "1. Compared to the data-explorations, it seems that the houses' prices from client 1 and client 2 are below the mean and median prices.\n",
        "2. For client 2, it seems reasonable due to the high poverty level and student-to-teacher ratio.\n",
        "3. For client 1, it also seems reasonable due to the average provery level and student-to-teacher-ratio.\n",
        "4. And the house's price from client 3 is way above the mean, median prices nearing to the maximum price in the dataset. This seems reasonable given the low poverty level and student-to-teacher ratio with a high number of rooms."
      ]
    },
    {
      "cell_type": "markdown",
      "metadata": {
        "id": "fMPMHZ29G2Z9",
        "colab_type": "text"
      },
      "source": [
        "**<h2>Sensitivity**"
      ]
    },
    {
      "cell_type": "markdown",
      "metadata": {
        "id": "duHruxZrG-fk",
        "colab_type": "text"
      },
      "source": [
        "* An optimal model is not necessarily a robust model.\n",
        "* Sometimes, a model is either too **complex** or too **simple** to sufficiently generalize to new data.\n",
        "* Sometimes, a model could use a **learning algorithm** that is not appropriate for the structure of the data given.\n",
        "* Sometimes, the data itself could be too **noisy** or contain too **few samples** to allow a model to adequately capture the target variable -- i.e., the model is **underfitted**."
      ]
    },
    {
      "cell_type": "markdown",
      "metadata": {
        "id": "-ux2AkPVM-3-",
        "colab_type": "text"
      },
      "source": [
        "**We run the code below to run the `fit_model` function ten times with different training and testing sets to see how the prediction for a specific client changes with respect to the data its trained on.**"
      ]
    },
    {
      "cell_type": "code",
      "metadata": {
        "id": "h8bl8HinMgkX",
        "colab_type": "code",
        "colab": {}
      },
      "source": [
        "from sklearn.model_selection import train_test_split"
      ],
      "execution_count": 0,
      "outputs": []
    },
    {
      "cell_type": "code",
      "metadata": {
        "id": "rO8FS58JM7a8",
        "colab_type": "code",
        "colab": {}
      },
      "source": [
        "def PredictTrials(X, y, fitter, data):\n",
        "\n",
        "    # Store the predicted prices\n",
        "    prices = []\n",
        "\n",
        "    for k in range(10):\n",
        "        # Split the data\n",
        "        X_train, X_test, y_train, y_test = train_test_split(X, y, \\\n",
        "            test_size = 0.2, random_state = k)\n",
        "        \n",
        "        # Fit the data\n",
        "        reg = fitter(X_train, y_train)\n",
        "        \n",
        "        # Make a prediction\n",
        "        pred = reg.predict([data[0]])[0]\n",
        "        prices.append(pred)\n",
        "        \n",
        "        # Result\n",
        "        print(\"Trial {}: ${:,.2f}\".format(k+1, pred))\n",
        "\n",
        "    # Display price range of predicted values\n",
        "    print(\"\\nRange in prices: ${:,.2f}\".format(max(prices) - min(prices)))"
      ],
      "execution_count": 0,
      "outputs": []
    },
    {
      "cell_type": "code",
      "metadata": {
        "id": "QSVXgS82Q-JY",
        "colab_type": "code",
        "outputId": "1c7ee1a4-918c-4b90-dd7f-1ef69bb71add",
        "executionInfo": {
          "status": "ok",
          "timestamp": 1589394038032,
          "user_tz": -330,
          "elapsed": 836,
          "user": {
            "displayName": "ml learning",
            "photoUrl": "",
            "userId": "11852164450280049527"
          }
        },
        "colab": {
          "base_uri": "https://localhost:8080/",
          "height": 34
        }
      },
      "source": [
        "#For different sets of training data predictions are made for the below test example\n",
        "client_data[0]"
      ],
      "execution_count": 0,
      "outputs": [
        {
          "output_type": "execute_result",
          "data": {
            "text/plain": [
              "[5, 17, 15]"
            ]
          },
          "metadata": {
            "tags": []
          },
          "execution_count": 41
        }
      ]
    },
    {
      "cell_type": "code",
      "metadata": {
        "id": "C_mieHtGMc-W",
        "colab_type": "code",
        "outputId": "5da98088-90bd-4aef-f873-c9d124b08f11",
        "executionInfo": {
          "status": "ok",
          "timestamp": 1589393742047,
          "user_tz": -330,
          "elapsed": 18721,
          "user": {
            "displayName": "ml learning",
            "photoUrl": "",
            "userId": "11852164450280049527"
          }
        },
        "colab": {
          "base_uri": "https://localhost:8080/",
          "height": 221
        }
      },
      "source": [
        "PredictTrials(features, prices, fit_model, client_data)"
      ],
      "execution_count": 0,
      "outputs": [
        {
          "output_type": "stream",
          "text": [
            "Trial 1: $391,183.33\n",
            "Trial 2: $424,935.00\n",
            "Trial 3: $415,800.00\n",
            "Trial 4: $420,622.22\n",
            "Trial 5: $418,377.27\n",
            "Trial 6: $411,931.58\n",
            "Trial 7: $399,663.16\n",
            "Trial 8: $407,232.00\n",
            "Trial 9: $351,577.61\n",
            "Trial 10: $413,700.00\n",
            "\n",
            "Range in prices: $73,357.39\n"
          ],
          "name": "stdout"
        }
      ]
    },
    {
      "cell_type": "markdown",
      "metadata": {
        "id": "TmsehnyzQI-w",
        "colab_type": "text"
      },
      "source": [
        "**<h1>Applicability**"
      ]
    },
    {
      "cell_type": "markdown",
      "metadata": {
        "id": "ojnAlu7IQNVN",
        "colab_type": "text"
      },
      "source": [
        "* So, can the constructed model be used in real-world scenario?\n",
        "* What other factors affect the model?\n",
        "* Data collected from a rural city may not be applicable as the demographics would change and other features may be better able to fit the dataset instead of a model with features that was learned using urban data.\n",
        "* The learning algorithm learned from a very old dataset may not be relevant because demographics have changed a lot since 1978. (data which we worked is of 1978s).\n",
        "* There are only 3 features currently and more features can be added in future such as crime rates, nearby to city, public transport access and more."
      ]
    },
    {
      "cell_type": "code",
      "metadata": {
        "id": "s6QN5oU6PZmb",
        "colab_type": "code",
        "colab": {}
      },
      "source": [
        ""
      ],
      "execution_count": 0,
      "outputs": []
    }
  ]
}